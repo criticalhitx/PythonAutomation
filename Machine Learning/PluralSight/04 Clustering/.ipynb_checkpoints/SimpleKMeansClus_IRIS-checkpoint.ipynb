{
 "cells": [
  {
   "cell_type": "code",
   "execution_count": 1,
   "metadata": {},
   "outputs": [],
   "source": [
    "import pandas as pd\n",
    "import matplotlib\n",
    "import matplotlib.pyplot as plt\n",
    "import numpy as np"
   ]
  },
  {
   "cell_type": "code",
   "execution_count": 2,
   "metadata": {},
   "outputs": [],
   "source": [
    "from sklearn import metrics\n",
    "from sklearn.cluster import KMeans\n",
    "\n",
    "import warnings\n",
    "warnings.filterwarnings(\"ignore\")"
   ]
  },
  {
   "cell_type": "code",
   "execution_count": 3,
   "metadata": {},
   "outputs": [
    {
     "data": {
      "text/html": [
       "<div>\n",
       "<style scoped>\n",
       "    .dataframe tbody tr th:only-of-type {\n",
       "        vertical-align: middle;\n",
       "    }\n",
       "\n",
       "    .dataframe tbody tr th {\n",
       "        vertical-align: top;\n",
       "    }\n",
       "\n",
       "    .dataframe thead th {\n",
       "        text-align: right;\n",
       "    }\n",
       "</style>\n",
       "<table border=\"1\" class=\"dataframe\">\n",
       "  <thead>\n",
       "    <tr style=\"text-align: right;\">\n",
       "      <th></th>\n",
       "      <th>sepal-length</th>\n",
       "      <th>sepal-width</th>\n",
       "      <th>petal-length</th>\n",
       "      <th>petal-width</th>\n",
       "      <th>class</th>\n",
       "    </tr>\n",
       "  </thead>\n",
       "  <tbody>\n",
       "    <tr>\n",
       "      <th>0</th>\n",
       "      <td>5.1</td>\n",
       "      <td>3.5</td>\n",
       "      <td>1.4</td>\n",
       "      <td>0.2</td>\n",
       "      <td>Setosa</td>\n",
       "    </tr>\n",
       "    <tr>\n",
       "      <th>1</th>\n",
       "      <td>4.9</td>\n",
       "      <td>3.0</td>\n",
       "      <td>1.4</td>\n",
       "      <td>0.2</td>\n",
       "      <td>Setosa</td>\n",
       "    </tr>\n",
       "    <tr>\n",
       "      <th>2</th>\n",
       "      <td>4.7</td>\n",
       "      <td>3.2</td>\n",
       "      <td>1.3</td>\n",
       "      <td>0.2</td>\n",
       "      <td>Setosa</td>\n",
       "    </tr>\n",
       "    <tr>\n",
       "      <th>3</th>\n",
       "      <td>4.6</td>\n",
       "      <td>3.1</td>\n",
       "      <td>1.5</td>\n",
       "      <td>0.2</td>\n",
       "      <td>Setosa</td>\n",
       "    </tr>\n",
       "    <tr>\n",
       "      <th>4</th>\n",
       "      <td>5.0</td>\n",
       "      <td>3.6</td>\n",
       "      <td>1.4</td>\n",
       "      <td>0.2</td>\n",
       "      <td>Setosa</td>\n",
       "    </tr>\n",
       "  </tbody>\n",
       "</table>\n",
       "</div>"
      ],
      "text/plain": [
       "   sepal-length  sepal-width  petal-length  petal-width   class\n",
       "0           5.1          3.5           1.4          0.2  Setosa\n",
       "1           4.9          3.0           1.4          0.2  Setosa\n",
       "2           4.7          3.2           1.3          0.2  Setosa\n",
       "3           4.6          3.1           1.5          0.2  Setosa\n",
       "4           5.0          3.6           1.4          0.2  Setosa"
      ]
     },
     "execution_count": 3,
     "metadata": {},
     "output_type": "execute_result"
    }
   ],
   "source": [
    "iris_df = pd.read_csv('datasets/iris.csv',\n",
    "                      skiprows=1,\n",
    "                      names = ['sepal-length',\n",
    "                               'sepal-width',\n",
    "                               'petal-length',\n",
    "                               'petal-width',\n",
    "                               'class'])\n",
    "iris_df.head()"
   ]
  },
  {
   "cell_type": "code",
   "execution_count": 4,
   "metadata": {},
   "outputs": [
    {
     "data": {
      "text/html": [
       "<div>\n",
       "<style scoped>\n",
       "    .dataframe tbody tr th:only-of-type {\n",
       "        vertical-align: middle;\n",
       "    }\n",
       "\n",
       "    .dataframe tbody tr th {\n",
       "        vertical-align: top;\n",
       "    }\n",
       "\n",
       "    .dataframe thead th {\n",
       "        text-align: right;\n",
       "    }\n",
       "</style>\n",
       "<table border=\"1\" class=\"dataframe\">\n",
       "  <thead>\n",
       "    <tr style=\"text-align: right;\">\n",
       "      <th></th>\n",
       "      <th>sepal-length</th>\n",
       "      <th>sepal-width</th>\n",
       "      <th>petal-length</th>\n",
       "      <th>petal-width</th>\n",
       "      <th>class</th>\n",
       "    </tr>\n",
       "  </thead>\n",
       "  <tbody>\n",
       "    <tr>\n",
       "      <th>0</th>\n",
       "      <td>5.5</td>\n",
       "      <td>2.3</td>\n",
       "      <td>4.0</td>\n",
       "      <td>1.3</td>\n",
       "      <td>Versicolor</td>\n",
       "    </tr>\n",
       "    <tr>\n",
       "      <th>1</th>\n",
       "      <td>7.0</td>\n",
       "      <td>3.2</td>\n",
       "      <td>4.7</td>\n",
       "      <td>1.4</td>\n",
       "      <td>Versicolor</td>\n",
       "    </tr>\n",
       "    <tr>\n",
       "      <th>2</th>\n",
       "      <td>5.6</td>\n",
       "      <td>3.0</td>\n",
       "      <td>4.1</td>\n",
       "      <td>1.3</td>\n",
       "      <td>Versicolor</td>\n",
       "    </tr>\n",
       "    <tr>\n",
       "      <th>3</th>\n",
       "      <td>6.5</td>\n",
       "      <td>3.0</td>\n",
       "      <td>5.5</td>\n",
       "      <td>1.8</td>\n",
       "      <td>Virginica</td>\n",
       "    </tr>\n",
       "    <tr>\n",
       "      <th>4</th>\n",
       "      <td>6.6</td>\n",
       "      <td>3.0</td>\n",
       "      <td>4.4</td>\n",
       "      <td>1.4</td>\n",
       "      <td>Versicolor</td>\n",
       "    </tr>\n",
       "  </tbody>\n",
       "</table>\n",
       "</div>"
      ],
      "text/plain": [
       "   sepal-length  sepal-width  petal-length  petal-width       class\n",
       "0           5.5          2.3           4.0          1.3  Versicolor\n",
       "1           7.0          3.2           4.7          1.4  Versicolor\n",
       "2           5.6          3.0           4.1          1.3  Versicolor\n",
       "3           6.5          3.0           5.5          1.8   Virginica\n",
       "4           6.6          3.0           4.4          1.4  Versicolor"
      ]
     },
     "execution_count": 4,
     "metadata": {},
     "output_type": "execute_result"
    }
   ],
   "source": [
    "iris_df = iris_df.sample(frac=1).reset_index(drop=True)\n",
    "\n",
    "iris_df.head()"
   ]
  },
  {
   "cell_type": "code",
   "execution_count": 5,
   "metadata": {},
   "outputs": [
    {
     "data": {
      "text/plain": [
       "(150, 5)"
      ]
     },
     "execution_count": 5,
     "metadata": {},
     "output_type": "execute_result"
    }
   ],
   "source": [
    "iris_df.shape"
   ]
  },
  {
   "cell_type": "code",
   "execution_count": 6,
   "metadata": {},
   "outputs": [
    {
     "data": {
      "text/plain": [
       "array(['Versicolor', 'Virginica', 'Setosa'], dtype=object)"
      ]
     },
     "execution_count": 6,
     "metadata": {},
     "output_type": "execute_result"
    }
   ],
   "source": [
    "iris_df['class'].unique()"
   ]
  },
  {
   "cell_type": "code",
   "execution_count": 7,
   "metadata": {},
   "outputs": [
    {
     "data": {
      "text/html": [
       "<div>\n",
       "<style scoped>\n",
       "    .dataframe tbody tr th:only-of-type {\n",
       "        vertical-align: middle;\n",
       "    }\n",
       "\n",
       "    .dataframe tbody tr th {\n",
       "        vertical-align: top;\n",
       "    }\n",
       "\n",
       "    .dataframe thead th {\n",
       "        text-align: right;\n",
       "    }\n",
       "</style>\n",
       "<table border=\"1\" class=\"dataframe\">\n",
       "  <thead>\n",
       "    <tr style=\"text-align: right;\">\n",
       "      <th></th>\n",
       "      <th>sepal-length</th>\n",
       "      <th>sepal-width</th>\n",
       "      <th>petal-length</th>\n",
       "      <th>petal-width</th>\n",
       "      <th>class</th>\n",
       "    </tr>\n",
       "  </thead>\n",
       "  <tbody>\n",
       "    <tr>\n",
       "      <th>0</th>\n",
       "      <td>5.5</td>\n",
       "      <td>2.3</td>\n",
       "      <td>4.0</td>\n",
       "      <td>1.3</td>\n",
       "      <td>1</td>\n",
       "    </tr>\n",
       "    <tr>\n",
       "      <th>1</th>\n",
       "      <td>7.0</td>\n",
       "      <td>3.2</td>\n",
       "      <td>4.7</td>\n",
       "      <td>1.4</td>\n",
       "      <td>1</td>\n",
       "    </tr>\n",
       "    <tr>\n",
       "      <th>2</th>\n",
       "      <td>5.6</td>\n",
       "      <td>3.0</td>\n",
       "      <td>4.1</td>\n",
       "      <td>1.3</td>\n",
       "      <td>1</td>\n",
       "    </tr>\n",
       "    <tr>\n",
       "      <th>3</th>\n",
       "      <td>6.5</td>\n",
       "      <td>3.0</td>\n",
       "      <td>5.5</td>\n",
       "      <td>1.8</td>\n",
       "      <td>2</td>\n",
       "    </tr>\n",
       "    <tr>\n",
       "      <th>4</th>\n",
       "      <td>6.6</td>\n",
       "      <td>3.0</td>\n",
       "      <td>4.4</td>\n",
       "      <td>1.4</td>\n",
       "      <td>1</td>\n",
       "    </tr>\n",
       "  </tbody>\n",
       "</table>\n",
       "</div>"
      ],
      "text/plain": [
       "   sepal-length  sepal-width  petal-length  petal-width  class\n",
       "0           5.5          2.3           4.0          1.3      1\n",
       "1           7.0          3.2           4.7          1.4      1\n",
       "2           5.6          3.0           4.1          1.3      1\n",
       "3           6.5          3.0           5.5          1.8      2\n",
       "4           6.6          3.0           4.4          1.4      1"
      ]
     },
     "execution_count": 7,
     "metadata": {},
     "output_type": "execute_result"
    }
   ],
   "source": [
    "#using label encoder\n",
    "from sklearn import preprocessing\n",
    "\n",
    "label_encoding = preprocessing.LabelEncoder()\n",
    "\n",
    "iris_df['class'] = label_encoding.fit_transform(iris_df['class'].astype(str))\n",
    "\n",
    "iris_df.head()"
   ]
  },
  {
   "cell_type": "code",
   "execution_count": 8,
   "metadata": {},
   "outputs": [
    {
     "data": {
      "image/png": "[encoded data removed]",
      "text/plain": [
       "<Figure size 864x576 with 1 Axes>"
      ]
     },
     "metadata": {
      "needs_background": "light"
     },
     "output_type": "display_data"
    }
   ],
   "source": [
    "fig, ax = plt.subplots(figsize=(12,8))\n",
    "\n",
    "plt.scatter(iris_df['sepal-length'], iris_df['sepal-width'], s=250)\n",
    "plt.xlabel('sepal-length')\n",
    "plt.ylabel('sepal-width')\n",
    "plt.show()"
   ]
  },
  {
   "cell_type": "code",
   "execution_count": 9,
   "metadata": {},
   "outputs": [
    {
     "data": {
      "image/png": "[encoded data removed]",
      "text/plain": [
       "<Figure size 864x576 with 1 Axes>"
      ]
     },
     "metadata": {
      "needs_background": "light"
     },
     "output_type": "display_data"
    }
   ],
   "source": [
    "fig, ax = plt.subplots(figsize=(12,8))\n",
    "\n",
    "plt.scatter(iris_df['petal-length'], iris_df['petal-width'], s=250)\n",
    "plt.xlabel('petal-length')\n",
    "plt.ylabel('petal-width')\n",
    "plt.show()"
   ]
  },
  {
   "cell_type": "code",
   "execution_count": 10,
   "metadata": {},
   "outputs": [],
   "source": [
    "# This is interesting data, because there are group of flower of small petal-length and width."
   ]
  },
  {
   "cell_type": "code",
   "execution_count": 11,
   "metadata": {},
   "outputs": [
    {
     "data": {
      "image/png": "[encoded data removed]",
      "text/plain": [
       "<Figure size 864x576 with 1 Axes>"
      ]
     },
     "metadata": {
      "needs_background": "light"
     },
     "output_type": "display_data"
    }
   ],
   "source": [
    "fig, ax = plt.subplots(figsize=(12,8))\n",
    "\n",
    "plt.scatter(iris_df['sepal-length'], iris_df['petal-length'], s=250)\n",
    "plt.xlabel('sepal-length')\n",
    "plt.ylabel('petal-length')\n",
    "plt.show()"
   ]
  },
  {
   "cell_type": "code",
   "execution_count": 12,
   "metadata": {},
   "outputs": [],
   "source": [
    "#this graph also interesting because it seems that clustering"
   ]
  },
  {
   "cell_type": "code",
   "execution_count": 13,
   "metadata": {},
   "outputs": [
    {
     "data": {
      "text/plain": [
       "array([[5.5, 4. ],\n",
       "       [7. , 4.7],\n",
       "       [5.6, 4.1],\n",
       "       [6.5, 5.5],\n",
       "       [6.6, 4.4],\n",
       "       [6.1, 4.7],\n",
       "       [6.3, 4.7],\n",
       "       [7.3, 6.3],\n",
       "       [5.1, 1.7],\n",
       "       [5.8, 3.9],\n",
       "       [6.9, 5.1],\n",
       "       [5.5, 1.4],\n",
       "       [6.7, 5.8],\n",
       "       [6. , 4. ],\n",
       "       [6.4, 5.3],\n",
       "       [5.6, 4.5],\n",
       "       [6.7, 5.2],\n",
       "       [6.9, 5.7],\n",
       "       [5.2, 3.9],\n",
       "       [6.4, 4.5],\n",
       "       [6.4, 5.5],\n",
       "       [5.7, 4.1],\n",
       "       [5.9, 4.8],\n",
       "       [5.4, 1.7],\n",
       "       [4.4, 1.3],\n",
       "       [4.9, 1.5],\n",
       "       [6.9, 5.4],\n",
       "       [6.8, 4.8],\n",
       "       [4.4, 1.3],\n",
       "       [5.4, 1.3],\n",
       "       [6.6, 4.6],\n",
       "       [5. , 1.3],\n",
       "       [5.4, 1.7],\n",
       "       [5.5, 4. ],\n",
       "       [5.8, 4. ],\n",
       "       [6.7, 4.7],\n",
       "       [5.1, 1.4],\n",
       "       [5.7, 3.5],\n",
       "       [5.1, 1.4],\n",
       "       [4.6, 1.5],\n",
       "       [4.9, 3.3],\n",
       "       [5.3, 1.5],\n",
       "       [7.2, 5.8],\n",
       "       [6.3, 4.9],\n",
       "       [5. , 1.4],\n",
       "       [7.2, 6. ],\n",
       "       [6. , 4.8],\n",
       "       [4.7, 1.3],\n",
       "       [5. , 1.2],\n",
       "       [5. , 3.3],\n",
       "       [5.8, 5.1],\n",
       "       [6.3, 5.6],\n",
       "       [5.1, 3. ],\n",
       "       [6.5, 5.2],\n",
       "       [6.4, 5.3],\n",
       "       [5. , 1.4],\n",
       "       [5. , 1.6],\n",
       "       [5.1, 1.6],\n",
       "       [6. , 5.1],\n",
       "       [5.1, 1.5],\n",
       "       [6.1, 5.6],\n",
       "       [6.8, 5.5],\n",
       "       [5. , 1.5],\n",
       "       [6.4, 5.6],\n",
       "       [5.8, 4.1],\n",
       "       [4.4, 1.4],\n",
       "       [5.7, 5. ],\n",
       "       [6. , 4.5],\n",
       "       [6.5, 4.6],\n",
       "       [6.7, 5. ],\n",
       "       [5.7, 1.7],\n",
       "       [5.2, 1.5],\n",
       "       [5.4, 1.5],\n",
       "       [5.5, 1.3],\n",
       "       [6.8, 5.9],\n",
       "       [5.8, 5.1],\n",
       "       [7.7, 6.7],\n",
       "       [5.7, 4.2],\n",
       "       [6.9, 4.9],\n",
       "       [6.1, 4. ],\n",
       "       [4.8, 1.6],\n",
       "       [4.9, 1.4],\n",
       "       [4.9, 1.5],\n",
       "       [4.8, 1.6],\n",
       "       [7.2, 6.1],\n",
       "       [6.3, 5. ],\n",
       "       [6.3, 5.6],\n",
       "       [5.4, 1.5],\n",
       "       [6.5, 5.8],\n",
       "       [5.8, 5.1],\n",
       "       [4.3, 1.1],\n",
       "       [5. , 3.5],\n",
       "       [6.7, 5.7],\n",
       "       [6.3, 4.4],\n",
       "       [6.7, 5.7],\n",
       "       [7.7, 6.9],\n",
       "       [5.2, 1.5],\n",
       "       [6.3, 4.9],\n",
       "       [6.3, 5.1],\n",
       "       [5.5, 3.7],\n",
       "       [6.1, 4.7],\n",
       "       [4.6, 1. ],\n",
       "       [7.9, 6.4],\n",
       "       [5. , 1.6],\n",
       "       [7.7, 6.1],\n",
       "       [6.5, 5.1],\n",
       "       [5. , 1.6],\n",
       "       [4.9, 1.4],\n",
       "       [5.7, 4.2],\n",
       "       [4.9, 4.5],\n",
       "       [6.2, 4.5],\n",
       "       [7.6, 6.6],\n",
       "       [5.7, 1.5],\n",
       "       [5.5, 3.8],\n",
       "       [4.8, 1.9],\n",
       "       [5.6, 4.9],\n",
       "       [5.4, 4.5],\n",
       "       [7.4, 6.1],\n",
       "       [5.6, 3.9],\n",
       "       [5.6, 4.2],\n",
       "       [5.9, 5.1],\n",
       "       [4.6, 1.4],\n",
       "       [6. , 4.5],\n",
       "       [4.5, 1.3],\n",
       "       [6.1, 4.9],\n",
       "       [5.8, 1.2],\n",
       "       [6.2, 4.3],\n",
       "       [7.7, 6.7],\n",
       "       [6.7, 4.4],\n",
       "       [5.1, 1.5],\n",
       "       [6.7, 5.6],\n",
       "       [6.1, 4.6],\n",
       "       [4.8, 1.4],\n",
       "       [5.7, 4.5],\n",
       "       [6. , 5. ],\n",
       "       [6.2, 4.8],\n",
       "       [6.3, 6. ],\n",
       "       [6.4, 5.6],\n",
       "       [5.1, 1.9],\n",
       "       [4.7, 1.6],\n",
       "       [4.6, 1.4],\n",
       "       [5.1, 1.5],\n",
       "       [6.2, 5.4],\n",
       "       [4.8, 1.4],\n",
       "       [5.6, 3.6],\n",
       "       [5.9, 4.2],\n",
       "       [6.4, 4.3],\n",
       "       [7.1, 5.9],\n",
       "       [5.2, 1.4],\n",
       "       [5.5, 4.4]])"
      ]
     },
     "execution_count": 13,
     "metadata": {},
     "output_type": "execute_result"
    }
   ],
   "source": [
    "#Get only 2 Features\n",
    "iris_2D = iris_df[['sepal-length', 'petal-length']]\n",
    "iris_2D = np.array(iris_2D) #convert into numpy array\n",
    "iris_2D"
   ]
  },
  {
   "cell_type": "code",
   "execution_count": 14,
   "metadata": {},
   "outputs": [],
   "source": [
    "kmeans_model_2D = KMeans(n_clusters=3, max_iter=1000).fit(iris_2D)"
   ]
  },
  {
   "cell_type": "code",
   "execution_count": 15,
   "metadata": {},
   "outputs": [
    {
     "data": {
      "text/plain": [
       "array([2, 1, 2, 1, 2, 2, 2, 1, 0, 2, 1, 0, 1, 2, 1, 2, 1, 1, 2, 2, 1, 2,\n",
       "       2, 0, 0, 0, 1, 1, 0, 0, 2, 0, 0, 2, 2, 2, 0, 2, 0, 0, 2, 0, 1, 2,\n",
       "       0, 1, 2, 0, 0, 2, 2, 1, 0, 1, 1, 0, 0, 0, 2, 0, 1, 1, 0, 1, 2, 0,\n",
       "       2, 2, 2, 1, 0, 0, 0, 0, 1, 2, 1, 2, 1, 2, 0, 0, 0, 0, 1, 2, 1, 0,\n",
       "       1, 2, 0, 2, 1, 2, 1, 1, 0, 2, 1, 2, 2, 0, 1, 0, 1, 1, 0, 0, 2, 2,\n",
       "       2, 1, 0, 2, 0, 2, 2, 1, 2, 2, 2, 0, 2, 0, 2, 0, 2, 1, 2, 0, 1, 2,\n",
       "       0, 2, 2, 2, 1, 1, 0, 0, 0, 0, 1, 0, 2, 2, 2, 1, 0, 2])"
      ]
     },
     "execution_count": 15,
     "metadata": {},
     "output_type": "execute_result"
    }
   ],
   "source": [
    "kmeans_model_2D.labels_ #result label"
   ]
  },
  {
   "cell_type": "code",
   "execution_count": 16,
   "metadata": {},
   "outputs": [
    {
     "data": {
      "text/plain": [
       "array([[5.00784314, 1.49215686],\n",
       "       [6.83902439, 5.67804878],\n",
       "       [5.87413793, 4.39310345]])"
      ]
     },
     "execution_count": 16,
     "metadata": {},
     "output_type": "execute_result"
    }
   ],
   "source": [
    "centroids_2D = kmeans_model_2D.cluster_centers_\n",
    "centroids_2D"
   ]
  },
  {
   "cell_type": "code",
   "execution_count": 17,
   "metadata": {},
   "outputs": [
    {
     "data": {
      "image/png": "[encoded data removed]",
      "text/plain": [
       "<Figure size 864x576 with 1 Axes>"
      ]
     },
     "metadata": {
      "needs_background": "light"
     },
     "output_type": "display_data"
    }
   ],
   "source": [
    "fig, ax = plt.subplots(figsize=(12,8))\n",
    "\n",
    "plt.scatter(centroids_2D[:,0], centroids_2D[:,1], c='r', s=250, marker='s') #kotak merahnya\n",
    "\n",
    "for i in range(len(centroids_2D)):\n",
    "    plt.annotate(i, (centroids_2D[i][0], centroids_2D[i][1]), fontsize=30)"
   ]
  },
  {
   "cell_type": "code",
   "execution_count": 18,
   "metadata": {},
   "outputs": [],
   "source": [
    "iris_labels = iris_df['class']"
   ]
  },
  {
   "cell_type": "code",
   "execution_count": 19,
   "metadata": {},
   "outputs": [
    {
     "name": "stdout",
     "output_type": "stream",
     "text": [
      "Homogeneity_Score:  0.7033177646052958\n",
      "Completeness_Score:  0.7096993707802843\n",
      "v_measure_score:  0.706494157075837\n",
      "Adjusted_rand_score:  0.6988627672348092\n",
      "Adjusted_mutual_info_score:  0.702802453140913\n",
      "Silhouette_score:  0.5890584158017611\n"
     ]
    }
   ],
   "source": [
    "#cluster contains homogeneity if all of its clusters contains only points which are members of a single class\n",
    "\n",
    "#completeness if all points in the same class belong to the same cluster\n",
    "\n",
    "#v_measure = harmonic means usually mean of homogenity and completeness score\n",
    "\n",
    "#adjusted_random_score= similarity measure between clusters which is adjusted for chance i.e. random labelling of data points\n",
    "\n",
    "#adj_mutual_info_score = measure mutual info in overlap between cluster assignment\n",
    "\n",
    "#silhouette = how similar a point on its own cluster and how dissimilar the point is form other cluster\n",
    "\n",
    "print(\"Homogeneity_Score: \", metrics.homogeneity_score(iris_labels, kmeans_model_2D.labels_))\n",
    "\n",
    "print(\"Completeness_Score: \", metrics.completeness_score(iris_labels, kmeans_model_2D.labels_))\n",
    "\n",
    "print(\"v_measure_score: \", metrics.v_measure_score(iris_labels, kmeans_model_2D.labels_))\n",
    "\n",
    "print(\"Adjusted_rand_score: \", metrics.adjusted_rand_score(iris_labels, kmeans_model_2D.labels_))\n",
    "\n",
    "print(\"Adjusted_mutual_info_score: \", metrics.adjusted_mutual_info_score(iris_labels, kmeans_model_2D.labels_))\n",
    "\n",
    "print(\"Silhouette_score: \", metrics.silhouette_score(iris_2D, kmeans_model_2D.labels_))"
   ]
  },
  {
   "cell_type": "code",
   "execution_count": 20,
   "metadata": {},
   "outputs": [
    {
     "data": {
      "image/png": "[encoded data removed]",
      "text/plain": [
       "<Figure size 864x576 with 1 Axes>"
      ]
     },
     "metadata": {
      "needs_background": "light"
     },
     "output_type": "display_data"
    }
   ],
   "source": [
    "colors =['yellow','blue','green']\n",
    "\n",
    "plt.figure(figsize=(12,8))\n",
    "\n",
    "plt.scatter(iris_df['sepal-length'], iris_df['petal-length'], c=iris_df['class'], s=200,\n",
    "            cmap = matplotlib.colors.ListedColormap(colors), alpha = 0.5)\n",
    "\n",
    "plt.scatter(centroids_2D[:,0], centroids_2D[:,1], c='r', s=250, marker ='s')\n",
    "\n",
    "for i in range(len(centroids_2D)):\n",
    "    plt.annotate(i, (centroids_2D[i][0], centroids_2D[i][1]), fontsize=30)"
   ]
  },
  {
   "cell_type": "code",
   "execution_count": 21,
   "metadata": {},
   "outputs": [
    {
     "data": {
      "text/html": [
       "<div>\n",
       "<style scoped>\n",
       "    .dataframe tbody tr th:only-of-type {\n",
       "        vertical-align: middle;\n",
       "    }\n",
       "\n",
       "    .dataframe tbody tr th {\n",
       "        vertical-align: top;\n",
       "    }\n",
       "\n",
       "    .dataframe thead th {\n",
       "        text-align: right;\n",
       "    }\n",
       "</style>\n",
       "<table border=\"1\" class=\"dataframe\">\n",
       "  <thead>\n",
       "    <tr style=\"text-align: right;\">\n",
       "      <th></th>\n",
       "      <th>sepal-length</th>\n",
       "      <th>sepal-width</th>\n",
       "      <th>petal-length</th>\n",
       "      <th>petal-width</th>\n",
       "    </tr>\n",
       "  </thead>\n",
       "  <tbody>\n",
       "    <tr>\n",
       "      <th>0</th>\n",
       "      <td>5.5</td>\n",
       "      <td>2.3</td>\n",
       "      <td>4.0</td>\n",
       "      <td>1.3</td>\n",
       "    </tr>\n",
       "    <tr>\n",
       "      <th>1</th>\n",
       "      <td>7.0</td>\n",
       "      <td>3.2</td>\n",
       "      <td>4.7</td>\n",
       "      <td>1.4</td>\n",
       "    </tr>\n",
       "    <tr>\n",
       "      <th>2</th>\n",
       "      <td>5.6</td>\n",
       "      <td>3.0</td>\n",
       "      <td>4.1</td>\n",
       "      <td>1.3</td>\n",
       "    </tr>\n",
       "    <tr>\n",
       "      <th>3</th>\n",
       "      <td>6.5</td>\n",
       "      <td>3.0</td>\n",
       "      <td>5.5</td>\n",
       "      <td>1.8</td>\n",
       "    </tr>\n",
       "    <tr>\n",
       "      <th>4</th>\n",
       "      <td>6.6</td>\n",
       "      <td>3.0</td>\n",
       "      <td>4.4</td>\n",
       "      <td>1.4</td>\n",
       "    </tr>\n",
       "  </tbody>\n",
       "</table>\n",
       "</div>"
      ],
      "text/plain": [
       "   sepal-length  sepal-width  petal-length  petal-width\n",
       "0           5.5          2.3           4.0          1.3\n",
       "1           7.0          3.2           4.7          1.4\n",
       "2           5.6          3.0           4.1          1.3\n",
       "3           6.5          3.0           5.5          1.8\n",
       "4           6.6          3.0           4.4          1.4"
      ]
     },
     "execution_count": 21,
     "metadata": {},
     "output_type": "execute_result"
    }
   ],
   "source": [
    "# now using all feature\n",
    "iris_features = iris_df.drop('class', axis=1)\n",
    "\n",
    "iris_features.head()"
   ]
  },
  {
   "cell_type": "code",
   "execution_count": 22,
   "metadata": {},
   "outputs": [
    {
     "data": {
      "text/plain": [
       "32     0\n",
       "90     0\n",
       "92     2\n",
       "142    2\n",
       "46     2\n",
       "Name: class, dtype: int32"
      ]
     },
     "execution_count": 22,
     "metadata": {},
     "output_type": "execute_result"
    }
   ],
   "source": [
    "iris_labels = iris_df['class']\n",
    "\n",
    "iris_labels.sample(5)"
   ]
  },
  {
   "cell_type": "code",
   "execution_count": 23,
   "metadata": {},
   "outputs": [],
   "source": [
    "kmeans_model = KMeans(n_clusters=3).fit(iris_features)"
   ]
  },
  {
   "cell_type": "code",
   "execution_count": 24,
   "metadata": {},
   "outputs": [
    {
     "data": {
      "text/plain": [
       "array([2, 2, 2, 0, 2, 2, 2, 0, 1, 2, 0, 1, 0, 2, 0, 2, 0, 0, 2, 2, 0, 2,\n",
       "       2, 1, 1, 1, 0, 2, 1, 1, 2, 1, 1, 2, 2, 2, 1, 2, 1, 1, 2, 1, 0, 2,\n",
       "       1, 0, 2, 1, 1, 2, 2, 0, 2, 0, 0, 1, 1, 1, 2, 1, 0, 0, 1, 0, 2, 1,\n",
       "       2, 2, 2, 0, 1, 1, 1, 1, 0, 2, 0, 2, 0, 2, 1, 1, 1, 1, 0, 2, 0, 1,\n",
       "       0, 2, 1, 2, 0, 2, 0, 0, 1, 2, 2, 2, 2, 1, 0, 1, 0, 0, 1, 1, 2, 2,\n",
       "       2, 0, 1, 2, 1, 2, 2, 0, 2, 2, 2, 1, 2, 1, 2, 1, 2, 0, 2, 1, 0, 2,\n",
       "       1, 2, 2, 2, 0, 0, 1, 1, 1, 1, 0, 1, 2, 2, 2, 0, 1, 2])"
      ]
     },
     "execution_count": 24,
     "metadata": {},
     "output_type": "execute_result"
    }
   ],
   "source": [
    "kmeans_model.labels_"
   ]
  },
  {
   "cell_type": "code",
   "execution_count": 25,
   "metadata": {},
   "outputs": [
    {
     "data": {
      "text/plain": [
       "array([[6.85      , 3.07368421, 5.74210526, 2.07105263],\n",
       "       [5.006     , 3.428     , 1.462     , 0.246     ],\n",
       "       [5.9016129 , 2.7483871 , 4.39354839, 1.43387097]])"
      ]
     },
     "execution_count": 25,
     "metadata": {},
     "output_type": "execute_result"
    }
   ],
   "source": [
    "kmeans_model.cluster_centers_"
   ]
  },
  {
   "cell_type": "code",
   "execution_count": 27,
   "metadata": {},
   "outputs": [
    {
     "name": "stdout",
     "output_type": "stream",
     "text": [
      "Homogeneity_Score:  0.7514854021988338\n",
      "Completeness_Score:  0.7649861514489815\n",
      "v_measure_score:  0.7581756800057784\n",
      "Adjusted_rand_score:  0.7302382722834697\n",
      "Adjusted_mutual_info_score:  0.7551191675800484\n",
      "Silhouette_score:  0.5895901803685984\n"
     ]
    }
   ],
   "source": [
    "print(\"Homogeneity_Score: \", metrics.homogeneity_score(iris_labels, kmeans_model.labels_))\n",
    "\n",
    "print(\"Completeness_Score: \", metrics.completeness_score(iris_labels, kmeans_model.labels_))\n",
    "\n",
    "print(\"v_measure_score: \", metrics.v_measure_score(iris_labels, kmeans_model.labels_))\n",
    "\n",
    "print(\"Adjusted_rand_score: \", metrics.adjusted_rand_score(iris_labels, kmeans_model.labels_))\n",
    "\n",
    "print(\"Adjusted_mutual_info_score: \", metrics.adjusted_mutual_info_score(iris_labels, kmeans_model.labels_))\n",
    "\n",
    "print(\"Silhouette_score: \", metrics.silhouette_score(iris_2D, kmeans_model.labels_))"
   ]
  },
  {
   "cell_type": "code",
   "execution_count": 28,
   "metadata": {},
   "outputs": [],
   "source": [
    "# by adding more feature, improve the scores"
   ]
  },
  {
   "cell_type": "code",
   "execution_count": null,
   "metadata": {},
   "outputs": [],
   "source": []
  }
 ],
 "metadata": {
  "kernelspec": {
   "display_name": "Python 3",
   "language": "python",
   "name": "python3"
  },
  "language_info": {
   "codemirror_mode": {
    "name": "ipython",
    "version": 3
   },
   "file_extension": ".py",
   "mimetype": "text/x-python",
   "name": "python",
   "nbconvert_exporter": "python",
   "pygments_lexer": "ipython3",
   "version": "3.7.6"
  }
 },
 "nbformat": 4,
 "nbformat_minor": 4
}
