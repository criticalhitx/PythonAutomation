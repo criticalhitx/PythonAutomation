{
 "cells": [
  {
   "cell_type": "code",
   "execution_count": 1,
   "metadata": {},
   "outputs": [],
   "source": [
    "import pandas as pd\n",
    "import numpy as np\n",
    "\n",
    "from sklearn.model_selection import train_test_split\n",
    "from sklearn.metrics import accuracy_score, precision_score, recall_score\n",
    "\n",
    "from sklearn.linear_model import LogisticRegression\n",
    "from sklearn.tree import DecisionTreeClassifier"
   ]
  },
  {
   "cell_type": "code",
   "execution_count": 10,
   "metadata": {},
   "outputs": [
    {
     "data": {
      "text/html": [
       "<div>\n",
       "<style scoped>\n",
       "    .dataframe tbody tr th:only-of-type {\n",
       "        vertical-align: middle;\n",
       "    }\n",
       "\n",
       "    .dataframe tbody tr th {\n",
       "        vertical-align: top;\n",
       "    }\n",
       "\n",
       "    .dataframe thead th {\n",
       "        text-align: right;\n",
       "    }\n",
       "</style>\n",
       "<table border=\"1\" class=\"dataframe\">\n",
       "  <thead>\n",
       "    <tr style=\"text-align: right;\">\n",
       "      <th></th>\n",
       "      <th>Survived</th>\n",
       "      <th>Pclass</th>\n",
       "      <th>Sex</th>\n",
       "      <th>Age</th>\n",
       "      <th>SibSp</th>\n",
       "      <th>Parch</th>\n",
       "      <th>Fare</th>\n",
       "      <th>Embarked_C</th>\n",
       "      <th>Embarked_Q</th>\n",
       "      <th>Embarked_S</th>\n",
       "    </tr>\n",
       "  </thead>\n",
       "  <tbody>\n",
       "    <tr>\n",
       "      <th>0</th>\n",
       "      <td>1</td>\n",
       "      <td>3</td>\n",
       "      <td>0</td>\n",
       "      <td>36.0</td>\n",
       "      <td>1</td>\n",
       "      <td>0</td>\n",
       "      <td>17.4000</td>\n",
       "      <td>0</td>\n",
       "      <td>0</td>\n",
       "      <td>1</td>\n",
       "    </tr>\n",
       "    <tr>\n",
       "      <th>1</th>\n",
       "      <td>1</td>\n",
       "      <td>2</td>\n",
       "      <td>1</td>\n",
       "      <td>1.0</td>\n",
       "      <td>2</td>\n",
       "      <td>1</td>\n",
       "      <td>39.0000</td>\n",
       "      <td>0</td>\n",
       "      <td>0</td>\n",
       "      <td>1</td>\n",
       "    </tr>\n",
       "    <tr>\n",
       "      <th>2</th>\n",
       "      <td>0</td>\n",
       "      <td>2</td>\n",
       "      <td>1</td>\n",
       "      <td>51.0</td>\n",
       "      <td>0</td>\n",
       "      <td>0</td>\n",
       "      <td>12.5250</td>\n",
       "      <td>0</td>\n",
       "      <td>0</td>\n",
       "      <td>1</td>\n",
       "    </tr>\n",
       "    <tr>\n",
       "      <th>3</th>\n",
       "      <td>1</td>\n",
       "      <td>2</td>\n",
       "      <td>0</td>\n",
       "      <td>23.0</td>\n",
       "      <td>0</td>\n",
       "      <td>0</td>\n",
       "      <td>13.7917</td>\n",
       "      <td>1</td>\n",
       "      <td>0</td>\n",
       "      <td>0</td>\n",
       "    </tr>\n",
       "    <tr>\n",
       "      <th>4</th>\n",
       "      <td>0</td>\n",
       "      <td>2</td>\n",
       "      <td>1</td>\n",
       "      <td>27.0</td>\n",
       "      <td>0</td>\n",
       "      <td>0</td>\n",
       "      <td>26.0000</td>\n",
       "      <td>0</td>\n",
       "      <td>0</td>\n",
       "      <td>1</td>\n",
       "    </tr>\n",
       "  </tbody>\n",
       "</table>\n",
       "</div>"
      ],
      "text/plain": [
       "   Survived  Pclass  Sex   Age  SibSp  Parch     Fare  Embarked_C  Embarked_Q  \\\n",
       "0         1       3    0  36.0      1      0  17.4000           0           0   \n",
       "1         1       2    1   1.0      2      1  39.0000           0           0   \n",
       "2         0       2    1  51.0      0      0  12.5250           0           0   \n",
       "3         1       2    0  23.0      0      0  13.7917           1           0   \n",
       "4         0       2    1  27.0      0      0  26.0000           0           0   \n",
       "\n",
       "   Embarked_S  \n",
       "0           1  \n",
       "1           1  \n",
       "2           1  \n",
       "3           0  \n",
       "4           1  "
      ]
     },
     "execution_count": 10,
     "metadata": {},
     "output_type": "execute_result"
    }
   ],
   "source": [
    "titanic_df = pd.read_csv('datasets/titanic_processed.csv')\n",
    "titanic_df.head()"
   ]
  },
  {
   "cell_type": "code",
   "execution_count": 15,
   "metadata": {},
   "outputs": [],
   "source": [
    "X = titanic_df.drop('Survived', axis=1)\n",
    "Y = titanic_df['Survived']\n",
    "x_train, x_test, y_train,  y_test = train_test_split(X, Y, test_size=0.2)"
   ]
  },
  {
   "cell_type": "code",
   "execution_count": 16,
   "metadata": {},
   "outputs": [],
   "source": [
    "def summarize_classification(y_test,y_pred):\n",
    "    acc = accuracy_score(y_test, y_pred, normalize = True)\n",
    "    num_acc = accuracy_score(y_test, y_pred, normalize = False)\n",
    "    \n",
    "    prec =  precision_score(y_test, y_pred)\n",
    "    recall =  recall_score(y_test, y_pred)\n",
    "    \n",
    "    print(\"Test data count: \",len(y_test))\n",
    "    print(\"Accuracy count: \", num_acc)\n",
    "    print(\"Accuracy score: \",  acc)\n",
    "    print(\"Precision score: \", prec)\n",
    "    print(\"Recall score: \", recall)\n",
    "    print()"
   ]
  },
  {
   "cell_type": "code",
   "execution_count": 19,
   "metadata": {},
   "outputs": [
    {
     "data": {
      "text/plain": [
       "{'max_depth': 2}"
      ]
     },
     "execution_count": 19,
     "metadata": {},
     "output_type": "execute_result"
    }
   ],
   "source": [
    "#Import gridSearch for hyperparam tuning\n",
    "#Use crossvalidation\n",
    "#cv=3 means split datasets into 3 parts\n",
    "#select best max_depth hyperparam\n",
    "from sklearn.model_selection import GridSearchCV\n",
    "\n",
    "parameters = {'max_depth': [2, 4, 5, 7, 9, 10]} #use max depth to tune our model\n",
    "grid_search = GridSearchCV(DecisionTreeClassifier(), parameters, cv=3, return_train_score=True)\n",
    "grid_search.fit(x_train, y_train)\n",
    "\n",
    "grid_search.best_params_"
   ]
  },
  {
   "cell_type": "code",
   "execution_count": 20,
   "metadata": {},
   "outputs": [
    {
     "name": "stdout",
     "output_type": "stream",
     "text": [
      "Parameters:  {'max_depth': 2}\n",
      "Mean Test Score:  0.7873479996287015\n",
      "Rank:  1\n",
      "Parameters:  {'max_depth': 4}\n",
      "Mean Test Score:  0.7820477118722732\n",
      "Rank:  2\n",
      "Parameters:  {'max_depth': 5}\n",
      "Mean Test Score:  0.7679197994987469\n",
      "Rank:  4\n",
      "Parameters:  {'max_depth': 7}\n",
      "Mean Test Score:  0.7574213311055417\n",
      "Rank:  5\n",
      "Parameters:  {'max_depth': 9}\n",
      "Mean Test Score:  0.7679847767567066\n",
      "Rank:  3\n",
      "Parameters:  {'max_depth': 10}\n",
      "Mean Test Score:  0.7328320802005012\n",
      "Rank:  6\n"
     ]
    }
   ],
   "source": [
    "#See the total gridSearch Result\n",
    "for i in range(6):\n",
    "    print('Parameters: ', grid_search.cv_results_['params'][i])\n",
    "    \n",
    "    print('Mean Test Score: ', grid_search.cv_results_['mean_test_score'][i])\n",
    "    \n",
    "    print('Rank: ', grid_search.cv_results_['rank_test_score'][i])"
   ]
  },
  {
   "cell_type": "code",
   "execution_count": 24,
   "metadata": {},
   "outputs": [],
   "source": [
    "decision_tree_model = DecisionTreeClassifier( \\\n",
    "    max_depth = grid_search.best_params_['max_depth']).fit(x_train,y_train)"
   ]
  },
  {
   "cell_type": "code",
   "execution_count": 25,
   "metadata": {},
   "outputs": [],
   "source": [
    "y_pred =  decision_tree_model.predict(x_test)"
   ]
  },
  {
   "cell_type": "code",
   "execution_count": 26,
   "metadata": {},
   "outputs": [
    {
     "name": "stdout",
     "output_type": "stream",
     "text": [
      "Test data count:  143\n",
      "Accuracy count:  114\n",
      "Accuracy score:  0.7972027972027972\n",
      "Precision score:  0.8333333333333334\n",
      "Recall score:  0.5660377358490566\n",
      "\n"
     ]
    }
   ],
   "source": [
    "summarize_classification(y_test,y_pred)"
   ]
  },
  {
   "cell_type": "code",
   "execution_count": 29,
   "metadata": {},
   "outputs": [
    {
     "data": {
      "text/plain": [
       "{'C': 5, 'penalty': 'l1'}"
      ]
     },
     "execution_count": 29,
     "metadata": {},
     "output_type": "execute_result"
    }
   ],
   "source": [
    "#now for logistic Regression Tuning\n",
    "parameters = {'penalty': ['l1','l2'],\n",
    "              'C': [0.1, 0.4, 0.8, 1, 2, 5]}\n",
    "grid_search = GridSearchCV(LogisticRegression(solver='liblinear'), parameters, cv=3, return_train_score=True)\n",
    "grid_search.fit(x_train, y_train)\n",
    "\n",
    "grid_search.best_params_"
   ]
  },
  {
   "cell_type": "code",
   "execution_count": 30,
   "metadata": {},
   "outputs": [
    {
     "name": "stdout",
     "output_type": "stream",
     "text": [
      "Parameters:  {'C': 0.1, 'penalty': 'l1'}\n",
      "Mean Test Score:  0.7452056066091153\n",
      "Rank:  12\n",
      "Parameters:  {'C': 0.1, 'penalty': 'l2'}\n",
      "Mean Test Score:  0.7539868188990996\n",
      "Rank:  11\n",
      "Parameters:  {'C': 0.4, 'penalty': 'l1'}\n",
      "Mean Test Score:  0.7732850645131347\n",
      "Rank:  9\n",
      "Parameters:  {'C': 0.4, 'penalty': 'l2'}\n",
      "Mean Test Score:  0.77857606980414\n",
      "Rank:  3\n",
      "Parameters:  {'C': 0.8, 'penalty': 'l1'}\n",
      "Mean Test Score:  0.7767938364429593\n",
      "Rank:  4\n",
      "Parameters:  {'C': 0.8, 'penalty': 'l2'}\n",
      "Mean Test Score:  0.7732943469785575\n",
      "Rank:  7\n",
      "Parameters:  {'C': 1, 'penalty': 'l1'}\n",
      "Mean Test Score:  0.7767938364429593\n",
      "Rank:  4\n",
      "Parameters:  {'C': 1, 'penalty': 'l2'}\n",
      "Mean Test Score:  0.7750487329434698\n",
      "Rank:  6\n",
      "Parameters:  {'C': 2, 'penalty': 'l1'}\n",
      "Mean Test Score:  0.7838206627680312\n",
      "Rank:  2\n",
      "Parameters:  {'C': 2, 'penalty': 'l2'}\n",
      "Mean Test Score:  0.7732943469785575\n",
      "Rank:  7\n",
      "Parameters:  {'C': 5, 'penalty': 'l1'}\n",
      "Mean Test Score:  0.7838299452334541\n",
      "Rank:  1\n",
      "Parameters:  {'C': 5, 'penalty': 'l2'}\n",
      "Mean Test Score:  0.773266499582289\n",
      "Rank:  10\n"
     ]
    }
   ],
   "source": [
    "#See the total gridSearch Result of Logistic Regression\n",
    "#12=2x6\n",
    "for i in range(12):\n",
    "    print('Parameters: ', grid_search.cv_results_['params'][i])\n",
    "    print('Mean Test Score: ', grid_search.cv_results_['mean_test_score'][i])\n",
    "    print('Rank: ', grid_search.cv_results_['rank_test_score'][i])"
   ]
  },
  {
   "cell_type": "code",
   "execution_count": 31,
   "metadata": {},
   "outputs": [],
   "source": [
    "logistic_model = LogisticRegression(solver='liblinear', \\\n",
    "    penalty=grid_search.best_params_['penalty'], C=grid_search.best_params_['C']). \\\n",
    "    fit(x_train, y_train)"
   ]
  },
  {
   "cell_type": "code",
   "execution_count": 32,
   "metadata": {},
   "outputs": [],
   "source": [
    "y_pred =  logistic_model.predict(x_test)"
   ]
  },
  {
   "cell_type": "code",
   "execution_count": 33,
   "metadata": {},
   "outputs": [
    {
     "name": "stdout",
     "output_type": "stream",
     "text": [
      "Test data count:  143\n",
      "Accuracy count:  117\n",
      "Accuracy score:  0.8181818181818182\n",
      "Precision score:  0.8\n",
      "Recall score:  0.6792452830188679\n",
      "\n"
     ]
    }
   ],
   "source": [
    "summarize_classification(y_test, y_pred)"
   ]
  },
  {
   "cell_type": "code",
   "execution_count": null,
   "metadata": {},
   "outputs": [],
   "source": []
  }
 ],
 "metadata": {
  "kernelspec": {
   "display_name": "Python 3",
   "language": "python",
   "name": "python3"
  },
  "language_info": {
   "codemirror_mode": {
    "name": "ipython",
    "version": 3
   },
   "file_extension": ".py",
   "mimetype": "text/x-python",
   "name": "python",
   "nbconvert_exporter": "python",
   "pygments_lexer": "ipython3",
   "version": "3.7.6"
  }
 },
 "nbformat": 4,
 "nbformat_minor": 4
}
