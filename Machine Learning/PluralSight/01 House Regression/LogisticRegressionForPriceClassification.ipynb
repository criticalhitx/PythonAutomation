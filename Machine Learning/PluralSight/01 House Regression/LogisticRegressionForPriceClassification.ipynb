{
 "cells": [
  {
   "cell_type": "code",
   "execution_count": 2,
   "metadata": {},
   "outputs": [],
   "source": [
    "#using if new data is above median or below median\n",
    "import pandas as pd\n",
    "import matplotlib.pyplot as plt"
   ]
  },
  {
   "cell_type": "code",
   "execution_count": 3,
   "metadata": {},
   "outputs": [
    {
     "data": {
      "text/html": [
       "<div>\n",
       "<style scoped>\n",
       "    .dataframe tbody tr th:only-of-type {\n",
       "        vertical-align: middle;\n",
       "    }\n",
       "\n",
       "    .dataframe tbody tr th {\n",
       "        vertical-align: top;\n",
       "    }\n",
       "\n",
       "    .dataframe thead th {\n",
       "        text-align: right;\n",
       "    }\n",
       "</style>\n",
       "<table border=\"1\" class=\"dataframe\">\n",
       "  <thead>\n",
       "    <tr style=\"text-align: right;\">\n",
       "      <th></th>\n",
       "      <th>longitude</th>\n",
       "      <th>latitude</th>\n",
       "      <th>housing_median_age</th>\n",
       "      <th>total_rooms</th>\n",
       "      <th>total_bedrooms</th>\n",
       "      <th>population</th>\n",
       "      <th>households</th>\n",
       "      <th>median_income</th>\n",
       "      <th>median_house_value</th>\n",
       "      <th>ocean_proximity</th>\n",
       "    </tr>\n",
       "  </thead>\n",
       "  <tbody>\n",
       "    <tr>\n",
       "      <th>12749</th>\n",
       "      <td>-121.37</td>\n",
       "      <td>38.62</td>\n",
       "      <td>27.0</td>\n",
       "      <td>1743.0</td>\n",
       "      <td>380.0</td>\n",
       "      <td>697.0</td>\n",
       "      <td>368.0</td>\n",
       "      <td>1.6678</td>\n",
       "      <td>166100.0</td>\n",
       "      <td>INLAND</td>\n",
       "    </tr>\n",
       "    <tr>\n",
       "      <th>13888</th>\n",
       "      <td>-116.51</td>\n",
       "      <td>34.85</td>\n",
       "      <td>15.0</td>\n",
       "      <td>3149.0</td>\n",
       "      <td>713.0</td>\n",
       "      <td>1281.0</td>\n",
       "      <td>486.0</td>\n",
       "      <td>2.0000</td>\n",
       "      <td>64700.0</td>\n",
       "      <td>INLAND</td>\n",
       "    </tr>\n",
       "    <tr>\n",
       "      <th>16960</th>\n",
       "      <td>-122.30</td>\n",
       "      <td>37.53</td>\n",
       "      <td>43.0</td>\n",
       "      <td>1748.0</td>\n",
       "      <td>366.0</td>\n",
       "      <td>984.0</td>\n",
       "      <td>371.0</td>\n",
       "      <td>4.5116</td>\n",
       "      <td>337800.0</td>\n",
       "      <td>NEAR OCEAN</td>\n",
       "    </tr>\n",
       "    <tr>\n",
       "      <th>12801</th>\n",
       "      <td>-121.46</td>\n",
       "      <td>38.62</td>\n",
       "      <td>35.0</td>\n",
       "      <td>3326.0</td>\n",
       "      <td>696.0</td>\n",
       "      <td>2511.0</td>\n",
       "      <td>649.0</td>\n",
       "      <td>1.9871</td>\n",
       "      <td>60900.0</td>\n",
       "      <td>INLAND</td>\n",
       "    </tr>\n",
       "    <tr>\n",
       "      <th>15076</th>\n",
       "      <td>-116.99</td>\n",
       "      <td>32.81</td>\n",
       "      <td>25.0</td>\n",
       "      <td>4436.0</td>\n",
       "      <td>758.0</td>\n",
       "      <td>1997.0</td>\n",
       "      <td>738.0</td>\n",
       "      <td>4.2386</td>\n",
       "      <td>201000.0</td>\n",
       "      <td>&lt;1H OCEAN</td>\n",
       "    </tr>\n",
       "  </tbody>\n",
       "</table>\n",
       "</div>"
      ],
      "text/plain": [
       "       longitude  latitude  housing_median_age  total_rooms  total_bedrooms  \\\n",
       "12749    -121.37     38.62                27.0       1743.0           380.0   \n",
       "13888    -116.51     34.85                15.0       3149.0           713.0   \n",
       "16960    -122.30     37.53                43.0       1748.0           366.0   \n",
       "12801    -121.46     38.62                35.0       3326.0           696.0   \n",
       "15076    -116.99     32.81                25.0       4436.0           758.0   \n",
       "\n",
       "       population  households  median_income  median_house_value  \\\n",
       "12749       697.0       368.0         1.6678            166100.0   \n",
       "13888      1281.0       486.0         2.0000             64700.0   \n",
       "16960       984.0       371.0         4.5116            337800.0   \n",
       "12801      2511.0       649.0         1.9871             60900.0   \n",
       "15076      1997.0       738.0         4.2386            201000.0   \n",
       "\n",
       "      ocean_proximity  \n",
       "12749          INLAND  \n",
       "13888          INLAND  \n",
       "16960      NEAR OCEAN  \n",
       "12801          INLAND  \n",
       "15076       <1H OCEAN  "
      ]
     },
     "execution_count": 3,
     "metadata": {},
     "output_type": "execute_result"
    }
   ],
   "source": [
    "housing_data = pd.read_csv('datasets/housing.csv')\n",
    "housing_data.sample(5)"
   ]
  },
  {
   "cell_type": "code",
   "execution_count": 4,
   "metadata": {},
   "outputs": [],
   "source": [
    "housing_data = housing_data.dropna()"
   ]
  },
  {
   "cell_type": "code",
   "execution_count": 5,
   "metadata": {},
   "outputs": [
    {
     "data": {
      "text/plain": [
       "(20433, 10)"
      ]
     },
     "execution_count": 5,
     "metadata": {},
     "output_type": "execute_result"
    }
   ],
   "source": [
    "housing_data.shape"
   ]
  },
  {
   "cell_type": "code",
   "execution_count": 6,
   "metadata": {},
   "outputs": [
    {
     "data": {
      "text/plain": [
       "longitude             958\n",
       "latitude              958\n",
       "housing_median_age    958\n",
       "total_rooms           958\n",
       "total_bedrooms        958\n",
       "population            958\n",
       "households            958\n",
       "median_income         958\n",
       "median_house_value    958\n",
       "ocean_proximity       958\n",
       "dtype: int64"
      ]
     },
     "execution_count": 6,
     "metadata": {},
     "output_type": "execute_result"
    }
   ],
   "source": [
    "housing_data.loc[housing_data['median_house_value'] == 500001].count()"
   ]
  },
  {
   "cell_type": "code",
   "execution_count": 7,
   "metadata": {},
   "outputs": [],
   "source": [
    "#drop housing data entry that have median_house_value of 500001\n",
    "housing_data = housing_data.drop(housing_data.loc[housing_data['median_house_value'] == 500001].index)"
   ]
  },
  {
   "cell_type": "code",
   "execution_count": 8,
   "metadata": {},
   "outputs": [
    {
     "data": {
      "text/plain": [
       "(19475, 10)"
      ]
     },
     "execution_count": 8,
     "metadata": {},
     "output_type": "execute_result"
    }
   ],
   "source": [
    "housing_data.shape"
   ]
  },
  {
   "cell_type": "code",
   "execution_count": 9,
   "metadata": {},
   "outputs": [
    {
     "data": {
      "text/html": [
       "<div>\n",
       "<style scoped>\n",
       "    .dataframe tbody tr th:only-of-type {\n",
       "        vertical-align: middle;\n",
       "    }\n",
       "\n",
       "    .dataframe tbody tr th {\n",
       "        vertical-align: top;\n",
       "    }\n",
       "\n",
       "    .dataframe thead th {\n",
       "        text-align: right;\n",
       "    }\n",
       "</style>\n",
       "<table border=\"1\" class=\"dataframe\">\n",
       "  <thead>\n",
       "    <tr style=\"text-align: right;\">\n",
       "      <th></th>\n",
       "      <th>longitude</th>\n",
       "      <th>latitude</th>\n",
       "      <th>housing_median_age</th>\n",
       "      <th>total_rooms</th>\n",
       "      <th>total_bedrooms</th>\n",
       "      <th>population</th>\n",
       "      <th>households</th>\n",
       "      <th>median_income</th>\n",
       "      <th>median_house_value</th>\n",
       "      <th>ocean_proximity</th>\n",
       "    </tr>\n",
       "  </thead>\n",
       "  <tbody>\n",
       "    <tr>\n",
       "      <th>0</th>\n",
       "      <td>-122.23</td>\n",
       "      <td>37.88</td>\n",
       "      <td>41.0</td>\n",
       "      <td>880.0</td>\n",
       "      <td>129.0</td>\n",
       "      <td>322.0</td>\n",
       "      <td>126.0</td>\n",
       "      <td>8.3252</td>\n",
       "      <td>452600.0</td>\n",
       "      <td>NEAR BAY</td>\n",
       "    </tr>\n",
       "    <tr>\n",
       "      <th>1</th>\n",
       "      <td>-122.22</td>\n",
       "      <td>37.86</td>\n",
       "      <td>21.0</td>\n",
       "      <td>7099.0</td>\n",
       "      <td>1106.0</td>\n",
       "      <td>2401.0</td>\n",
       "      <td>1138.0</td>\n",
       "      <td>8.3014</td>\n",
       "      <td>358500.0</td>\n",
       "      <td>NEAR BAY</td>\n",
       "    </tr>\n",
       "    <tr>\n",
       "      <th>2</th>\n",
       "      <td>-122.24</td>\n",
       "      <td>37.85</td>\n",
       "      <td>52.0</td>\n",
       "      <td>1467.0</td>\n",
       "      <td>190.0</td>\n",
       "      <td>496.0</td>\n",
       "      <td>177.0</td>\n",
       "      <td>7.2574</td>\n",
       "      <td>352100.0</td>\n",
       "      <td>NEAR BAY</td>\n",
       "    </tr>\n",
       "    <tr>\n",
       "      <th>3</th>\n",
       "      <td>-122.25</td>\n",
       "      <td>37.85</td>\n",
       "      <td>52.0</td>\n",
       "      <td>1274.0</td>\n",
       "      <td>235.0</td>\n",
       "      <td>558.0</td>\n",
       "      <td>219.0</td>\n",
       "      <td>5.6431</td>\n",
       "      <td>341300.0</td>\n",
       "      <td>NEAR BAY</td>\n",
       "    </tr>\n",
       "    <tr>\n",
       "      <th>4</th>\n",
       "      <td>-122.25</td>\n",
       "      <td>37.85</td>\n",
       "      <td>52.0</td>\n",
       "      <td>1627.0</td>\n",
       "      <td>280.0</td>\n",
       "      <td>565.0</td>\n",
       "      <td>259.0</td>\n",
       "      <td>3.8462</td>\n",
       "      <td>342200.0</td>\n",
       "      <td>NEAR BAY</td>\n",
       "    </tr>\n",
       "  </tbody>\n",
       "</table>\n",
       "</div>"
      ],
      "text/plain": [
       "   longitude  latitude  housing_median_age  total_rooms  total_bedrooms  \\\n",
       "0    -122.23     37.88                41.0        880.0           129.0   \n",
       "1    -122.22     37.86                21.0       7099.0          1106.0   \n",
       "2    -122.24     37.85                52.0       1467.0           190.0   \n",
       "3    -122.25     37.85                52.0       1274.0           235.0   \n",
       "4    -122.25     37.85                52.0       1627.0           280.0   \n",
       "\n",
       "   population  households  median_income  median_house_value ocean_proximity  \n",
       "0       322.0       126.0         8.3252            452600.0        NEAR BAY  \n",
       "1      2401.0      1138.0         8.3014            358500.0        NEAR BAY  \n",
       "2       496.0       177.0         7.2574            352100.0        NEAR BAY  \n",
       "3       558.0       219.0         5.6431            341300.0        NEAR BAY  \n",
       "4       565.0       259.0         3.8462            342200.0        NEAR BAY  "
      ]
     },
     "execution_count": 9,
     "metadata": {},
     "output_type": "execute_result"
    }
   ],
   "source": [
    "housing_data.head()"
   ]
  },
  {
   "cell_type": "code",
   "execution_count": 10,
   "metadata": {},
   "outputs": [
    {
     "data": {
      "text/plain": [
       "array(['NEAR BAY', '<1H OCEAN', 'INLAND', 'NEAR OCEAN', 'ISLAND'],\n",
       "      dtype=object)"
      ]
     },
     "execution_count": 10,
     "metadata": {},
     "output_type": "execute_result"
    }
   ],
   "source": [
    "housing_data['ocean_proximity'].unique()"
   ]
  },
  {
   "cell_type": "code",
   "execution_count": 12,
   "metadata": {},
   "outputs": [],
   "source": [
    "housing_data = pd.get_dummies(housing_data, columns=['ocean_proximity'])"
   ]
  },
  {
   "cell_type": "code",
   "execution_count": 13,
   "metadata": {},
   "outputs": [
    {
     "data": {
      "text/plain": [
       "(19475, 14)"
      ]
     },
     "execution_count": 13,
     "metadata": {},
     "output_type": "execute_result"
    }
   ],
   "source": [
    "#become 14 column after one hot encoding\n",
    "housing_data.shape"
   ]
  },
  {
   "cell_type": "code",
   "execution_count": 14,
   "metadata": {},
   "outputs": [
    {
     "data": {
      "text/html": [
       "<div>\n",
       "<style scoped>\n",
       "    .dataframe tbody tr th:only-of-type {\n",
       "        vertical-align: middle;\n",
       "    }\n",
       "\n",
       "    .dataframe tbody tr th {\n",
       "        vertical-align: top;\n",
       "    }\n",
       "\n",
       "    .dataframe thead th {\n",
       "        text-align: right;\n",
       "    }\n",
       "</style>\n",
       "<table border=\"1\" class=\"dataframe\">\n",
       "  <thead>\n",
       "    <tr style=\"text-align: right;\">\n",
       "      <th></th>\n",
       "      <th>longitude</th>\n",
       "      <th>latitude</th>\n",
       "      <th>housing_median_age</th>\n",
       "      <th>total_rooms</th>\n",
       "      <th>total_bedrooms</th>\n",
       "      <th>population</th>\n",
       "      <th>households</th>\n",
       "      <th>median_income</th>\n",
       "      <th>median_house_value</th>\n",
       "      <th>ocean_proximity_&lt;1H OCEAN</th>\n",
       "      <th>ocean_proximity_INLAND</th>\n",
       "      <th>ocean_proximity_ISLAND</th>\n",
       "      <th>ocean_proximity_NEAR BAY</th>\n",
       "      <th>ocean_proximity_NEAR OCEAN</th>\n",
       "    </tr>\n",
       "  </thead>\n",
       "  <tbody>\n",
       "    <tr>\n",
       "      <th>3087</th>\n",
       "      <td>-118.87</td>\n",
       "      <td>35.65</td>\n",
       "      <td>33.0</td>\n",
       "      <td>1504.0</td>\n",
       "      <td>325.0</td>\n",
       "      <td>584.0</td>\n",
       "      <td>223.0</td>\n",
       "      <td>3.4792</td>\n",
       "      <td>94600.0</td>\n",
       "      <td>0</td>\n",
       "      <td>1</td>\n",
       "      <td>0</td>\n",
       "      <td>0</td>\n",
       "      <td>0</td>\n",
       "    </tr>\n",
       "    <tr>\n",
       "      <th>16844</th>\n",
       "      <td>-122.43</td>\n",
       "      <td>37.63</td>\n",
       "      <td>34.0</td>\n",
       "      <td>4135.0</td>\n",
       "      <td>687.0</td>\n",
       "      <td>2154.0</td>\n",
       "      <td>742.0</td>\n",
       "      <td>4.9732</td>\n",
       "      <td>342300.0</td>\n",
       "      <td>0</td>\n",
       "      <td>0</td>\n",
       "      <td>0</td>\n",
       "      <td>0</td>\n",
       "      <td>1</td>\n",
       "    </tr>\n",
       "    <tr>\n",
       "      <th>19831</th>\n",
       "      <td>-119.38</td>\n",
       "      <td>36.56</td>\n",
       "      <td>25.0</td>\n",
       "      <td>1180.0</td>\n",
       "      <td>222.0</td>\n",
       "      <td>611.0</td>\n",
       "      <td>212.0</td>\n",
       "      <td>2.0729</td>\n",
       "      <td>84700.0</td>\n",
       "      <td>0</td>\n",
       "      <td>1</td>\n",
       "      <td>0</td>\n",
       "      <td>0</td>\n",
       "      <td>0</td>\n",
       "    </tr>\n",
       "    <tr>\n",
       "      <th>15644</th>\n",
       "      <td>-122.42</td>\n",
       "      <td>37.79</td>\n",
       "      <td>52.0</td>\n",
       "      <td>3457.0</td>\n",
       "      <td>1021.0</td>\n",
       "      <td>2286.0</td>\n",
       "      <td>994.0</td>\n",
       "      <td>2.5650</td>\n",
       "      <td>225000.0</td>\n",
       "      <td>0</td>\n",
       "      <td>0</td>\n",
       "      <td>0</td>\n",
       "      <td>1</td>\n",
       "      <td>0</td>\n",
       "    </tr>\n",
       "    <tr>\n",
       "      <th>4358</th>\n",
       "      <td>-118.37</td>\n",
       "      <td>34.08</td>\n",
       "      <td>52.0</td>\n",
       "      <td>2946.0</td>\n",
       "      <td>695.0</td>\n",
       "      <td>1258.0</td>\n",
       "      <td>650.0</td>\n",
       "      <td>3.9783</td>\n",
       "      <td>374100.0</td>\n",
       "      <td>1</td>\n",
       "      <td>0</td>\n",
       "      <td>0</td>\n",
       "      <td>0</td>\n",
       "      <td>0</td>\n",
       "    </tr>\n",
       "  </tbody>\n",
       "</table>\n",
       "</div>"
      ],
      "text/plain": [
       "       longitude  latitude  housing_median_age  total_rooms  total_bedrooms  \\\n",
       "3087     -118.87     35.65                33.0       1504.0           325.0   \n",
       "16844    -122.43     37.63                34.0       4135.0           687.0   \n",
       "19831    -119.38     36.56                25.0       1180.0           222.0   \n",
       "15644    -122.42     37.79                52.0       3457.0          1021.0   \n",
       "4358     -118.37     34.08                52.0       2946.0           695.0   \n",
       "\n",
       "       population  households  median_income  median_house_value  \\\n",
       "3087        584.0       223.0         3.4792             94600.0   \n",
       "16844      2154.0       742.0         4.9732            342300.0   \n",
       "19831       611.0       212.0         2.0729             84700.0   \n",
       "15644      2286.0       994.0         2.5650            225000.0   \n",
       "4358       1258.0       650.0         3.9783            374100.0   \n",
       "\n",
       "       ocean_proximity_<1H OCEAN  ocean_proximity_INLAND  \\\n",
       "3087                           0                       1   \n",
       "16844                          0                       0   \n",
       "19831                          0                       1   \n",
       "15644                          0                       0   \n",
       "4358                           1                       0   \n",
       "\n",
       "       ocean_proximity_ISLAND  ocean_proximity_NEAR BAY  \\\n",
       "3087                        0                         0   \n",
       "16844                       0                         0   \n",
       "19831                       0                         0   \n",
       "15644                       0                         1   \n",
       "4358                        0                         0   \n",
       "\n",
       "       ocean_proximity_NEAR OCEAN  \n",
       "3087                            0  \n",
       "16844                           1  \n",
       "19831                           0  \n",
       "15644                           0  \n",
       "4358                            0  "
      ]
     },
     "execution_count": 14,
     "metadata": {},
     "output_type": "execute_result"
    }
   ],
   "source": [
    "housing_data.sample(5)"
   ]
  },
  {
   "cell_type": "code",
   "execution_count": 16,
   "metadata": {},
   "outputs": [
    {
     "data": {
      "text/plain": [
       "173800.0"
      ]
     },
     "execution_count": 16,
     "metadata": {},
     "output_type": "execute_result"
    }
   ],
   "source": [
    "#calculate median of median_house_value from datasets, we want to set if its above or below median value\n",
    "median = housing_data['median_house_value'].median()\n",
    "median"
   ]
  },
  {
   "cell_type": "code",
   "execution_count": 17,
   "metadata": {},
   "outputs": [],
   "source": [
    "#append above_median columns into the dataset which value is boolean\n",
    "#if median_house_value's value is above the median, then return yes\n",
    "housing_data['above_median'] = (housing_data['median_house_value'] - median) > 0"
   ]
  },
  {
   "cell_type": "code",
   "execution_count": 19,
   "metadata": {},
   "outputs": [
    {
     "data": {
      "text/html": [
       "<div>\n",
       "<style scoped>\n",
       "    .dataframe tbody tr th:only-of-type {\n",
       "        vertical-align: middle;\n",
       "    }\n",
       "\n",
       "    .dataframe tbody tr th {\n",
       "        vertical-align: top;\n",
       "    }\n",
       "\n",
       "    .dataframe thead th {\n",
       "        text-align: right;\n",
       "    }\n",
       "</style>\n",
       "<table border=\"1\" class=\"dataframe\">\n",
       "  <thead>\n",
       "    <tr style=\"text-align: right;\">\n",
       "      <th></th>\n",
       "      <th>longitude</th>\n",
       "      <th>latitude</th>\n",
       "      <th>housing_median_age</th>\n",
       "      <th>total_rooms</th>\n",
       "      <th>total_bedrooms</th>\n",
       "      <th>population</th>\n",
       "      <th>households</th>\n",
       "      <th>median_income</th>\n",
       "      <th>median_house_value</th>\n",
       "      <th>ocean_proximity_&lt;1H OCEAN</th>\n",
       "      <th>ocean_proximity_INLAND</th>\n",
       "      <th>ocean_proximity_ISLAND</th>\n",
       "      <th>ocean_proximity_NEAR BAY</th>\n",
       "      <th>ocean_proximity_NEAR OCEAN</th>\n",
       "      <th>above_median</th>\n",
       "    </tr>\n",
       "  </thead>\n",
       "  <tbody>\n",
       "    <tr>\n",
       "      <th>3491</th>\n",
       "      <td>-118.47</td>\n",
       "      <td>34.27</td>\n",
       "      <td>33.0</td>\n",
       "      <td>1549.0</td>\n",
       "      <td>264.0</td>\n",
       "      <td>881.0</td>\n",
       "      <td>289.0</td>\n",
       "      <td>5.1408</td>\n",
       "      <td>222900.0</td>\n",
       "      <td>1</td>\n",
       "      <td>0</td>\n",
       "      <td>0</td>\n",
       "      <td>0</td>\n",
       "      <td>0</td>\n",
       "      <td>True</td>\n",
       "    </tr>\n",
       "    <tr>\n",
       "      <th>17388</th>\n",
       "      <td>-120.45</td>\n",
       "      <td>34.97</td>\n",
       "      <td>25.0</td>\n",
       "      <td>1920.0</td>\n",
       "      <td>380.0</td>\n",
       "      <td>1434.0</td>\n",
       "      <td>388.0</td>\n",
       "      <td>3.0368</td>\n",
       "      <td>129300.0</td>\n",
       "      <td>1</td>\n",
       "      <td>0</td>\n",
       "      <td>0</td>\n",
       "      <td>0</td>\n",
       "      <td>0</td>\n",
       "      <td>False</td>\n",
       "    </tr>\n",
       "    <tr>\n",
       "      <th>9438</th>\n",
       "      <td>-119.98</td>\n",
       "      <td>37.43</td>\n",
       "      <td>12.0</td>\n",
       "      <td>2776.0</td>\n",
       "      <td>592.0</td>\n",
       "      <td>1236.0</td>\n",
       "      <td>489.0</td>\n",
       "      <td>2.5551</td>\n",
       "      <td>105000.0</td>\n",
       "      <td>0</td>\n",
       "      <td>1</td>\n",
       "      <td>0</td>\n",
       "      <td>0</td>\n",
       "      <td>0</td>\n",
       "      <td>False</td>\n",
       "    </tr>\n",
       "    <tr>\n",
       "      <th>20185</th>\n",
       "      <td>-119.16</td>\n",
       "      <td>34.27</td>\n",
       "      <td>24.0</td>\n",
       "      <td>1824.0</td>\n",
       "      <td>331.0</td>\n",
       "      <td>1049.0</td>\n",
       "      <td>320.0</td>\n",
       "      <td>5.9181</td>\n",
       "      <td>221100.0</td>\n",
       "      <td>0</td>\n",
       "      <td>0</td>\n",
       "      <td>0</td>\n",
       "      <td>0</td>\n",
       "      <td>1</td>\n",
       "      <td>True</td>\n",
       "    </tr>\n",
       "    <tr>\n",
       "      <th>3976</th>\n",
       "      <td>-118.62</td>\n",
       "      <td>34.18</td>\n",
       "      <td>25.0</td>\n",
       "      <td>3124.0</td>\n",
       "      <td>468.0</td>\n",
       "      <td>1241.0</td>\n",
       "      <td>439.0</td>\n",
       "      <td>6.4044</td>\n",
       "      <td>333100.0</td>\n",
       "      <td>1</td>\n",
       "      <td>0</td>\n",
       "      <td>0</td>\n",
       "      <td>0</td>\n",
       "      <td>0</td>\n",
       "      <td>True</td>\n",
       "    </tr>\n",
       "  </tbody>\n",
       "</table>\n",
       "</div>"
      ],
      "text/plain": [
       "       longitude  latitude  housing_median_age  total_rooms  total_bedrooms  \\\n",
       "3491     -118.47     34.27                33.0       1549.0           264.0   \n",
       "17388    -120.45     34.97                25.0       1920.0           380.0   \n",
       "9438     -119.98     37.43                12.0       2776.0           592.0   \n",
       "20185    -119.16     34.27                24.0       1824.0           331.0   \n",
       "3976     -118.62     34.18                25.0       3124.0           468.0   \n",
       "\n",
       "       population  households  median_income  median_house_value  \\\n",
       "3491        881.0       289.0         5.1408            222900.0   \n",
       "17388      1434.0       388.0         3.0368            129300.0   \n",
       "9438       1236.0       489.0         2.5551            105000.0   \n",
       "20185      1049.0       320.0         5.9181            221100.0   \n",
       "3976       1241.0       439.0         6.4044            333100.0   \n",
       "\n",
       "       ocean_proximity_<1H OCEAN  ocean_proximity_INLAND  \\\n",
       "3491                           1                       0   \n",
       "17388                          1                       0   \n",
       "9438                           0                       1   \n",
       "20185                          0                       0   \n",
       "3976                           1                       0   \n",
       "\n",
       "       ocean_proximity_ISLAND  ocean_proximity_NEAR BAY  \\\n",
       "3491                        0                         0   \n",
       "17388                       0                         0   \n",
       "9438                        0                         0   \n",
       "20185                       0                         0   \n",
       "3976                        0                         0   \n",
       "\n",
       "       ocean_proximity_NEAR OCEAN  above_median  \n",
       "3491                            0          True  \n",
       "17388                           0         False  \n",
       "9438                            0         False  \n",
       "20185                           1          True  \n",
       "3976                            0          True  "
      ]
     },
     "execution_count": 19,
     "metadata": {},
     "output_type": "execute_result"
    }
   ],
   "source": [
    "#another column is appearing \"above_median\"\n",
    "housing_data.sample(5)"
   ]
  },
  {
   "cell_type": "code",
   "execution_count": 21,
   "metadata": {},
   "outputs": [],
   "source": [
    "#X value dropping the median_house_value and above_median as features\n",
    "#Y value is boolean / binary classification is that above median or not\n",
    "X = housing_data.drop(['median_house_value', 'above_median'], axis=1)\n",
    "Y = housing_data['above_median'] "
   ]
  },
  {
   "cell_type": "code",
   "execution_count": 22,
   "metadata": {},
   "outputs": [
    {
     "data": {
      "text/plain": [
       "Index(['longitude', 'latitude', 'housing_median_age', 'total_rooms',\n",
       "       'total_bedrooms', 'population', 'households', 'median_income',\n",
       "       'ocean_proximity_<1H OCEAN', 'ocean_proximity_INLAND',\n",
       "       'ocean_proximity_ISLAND', 'ocean_proximity_NEAR BAY',\n",
       "       'ocean_proximity_NEAR OCEAN'],\n",
       "      dtype='object')"
      ]
     },
     "execution_count": 22,
     "metadata": {},
     "output_type": "execute_result"
    }
   ],
   "source": [
    "X.columns #features"
   ]
  },
  {
   "cell_type": "code",
   "execution_count": 23,
   "metadata": {},
   "outputs": [],
   "source": [
    "#split train and test \n",
    "from sklearn.model_selection import train_test_split\n",
    "\n",
    "x_train, x_test, y_train, y_test = train_test_split(X, Y, test_size=0.2)"
   ]
  },
  {
   "cell_type": "code",
   "execution_count": 24,
   "metadata": {},
   "outputs": [
    {
     "data": {
      "text/plain": [
       "((15580, 13), (3895, 13))"
      ]
     },
     "execution_count": 24,
     "metadata": {},
     "output_type": "execute_result"
    }
   ],
   "source": [
    "x_train.shape, x_test.shape"
   ]
  },
  {
   "cell_type": "code",
   "execution_count": 25,
   "metadata": {},
   "outputs": [
    {
     "data": {
      "text/plain": [
       "((15580,), (3895,))"
      ]
     },
     "execution_count": 25,
     "metadata": {},
     "output_type": "execute_result"
    }
   ],
   "source": [
    "y_train.shape, y_test.shape"
   ]
  },
  {
   "cell_type": "code",
   "execution_count": 28,
   "metadata": {},
   "outputs": [],
   "source": [
    "#Start Logistic Regression.\n",
    "#liblinear is good choice for small datasets and binary classification\n",
    "from sklearn.linear_model import LogisticRegression\n",
    "logistic_model = LogisticRegression(solver='liblinear').fit(x_train,y_train)"
   ]
  },
  {
   "cell_type": "code",
   "execution_count": 30,
   "metadata": {},
   "outputs": [
    {
     "name": "stdout",
     "output_type": "stream",
     "text": [
      "Training_score : 0.8188703465982028\n"
     ]
    }
   ],
   "source": [
    "#Accuracy of output of classifier on training data\n",
    "print(\"Training_score :\", logistic_model.score(x_train,y_train))"
   ]
  },
  {
   "cell_type": "code",
   "execution_count": 31,
   "metadata": {},
   "outputs": [],
   "source": [
    "y_pred = logistic_model.predict(x_test)"
   ]
  },
  {
   "cell_type": "code",
   "execution_count": 38,
   "metadata": {},
   "outputs": [
    {
     "data": {
      "text/html": [
       "<div>\n",
       "<style scoped>\n",
       "    .dataframe tbody tr th:only-of-type {\n",
       "        vertical-align: middle;\n",
       "    }\n",
       "\n",
       "    .dataframe tbody tr th {\n",
       "        vertical-align: top;\n",
       "    }\n",
       "\n",
       "    .dataframe thead th {\n",
       "        text-align: right;\n",
       "    }\n",
       "</style>\n",
       "<table border=\"1\" class=\"dataframe\">\n",
       "  <thead>\n",
       "    <tr style=\"text-align: right;\">\n",
       "      <th></th>\n",
       "      <th>predicted</th>\n",
       "      <th>actual</th>\n",
       "    </tr>\n",
       "  </thead>\n",
       "  <tbody>\n",
       "    <tr>\n",
       "      <th>10477</th>\n",
       "      <td>True</td>\n",
       "      <td>True</td>\n",
       "    </tr>\n",
       "    <tr>\n",
       "      <th>7381</th>\n",
       "      <td>False</td>\n",
       "      <td>False</td>\n",
       "    </tr>\n",
       "    <tr>\n",
       "      <th>15130</th>\n",
       "      <td>True</td>\n",
       "      <td>False</td>\n",
       "    </tr>\n",
       "    <tr>\n",
       "      <th>18738</th>\n",
       "      <td>False</td>\n",
       "      <td>False</td>\n",
       "    </tr>\n",
       "    <tr>\n",
       "      <th>12211</th>\n",
       "      <td>True</td>\n",
       "      <td>True</td>\n",
       "    </tr>\n",
       "    <tr>\n",
       "      <th>9541</th>\n",
       "      <td>False</td>\n",
       "      <td>False</td>\n",
       "    </tr>\n",
       "    <tr>\n",
       "      <th>1335</th>\n",
       "      <td>False</td>\n",
       "      <td>False</td>\n",
       "    </tr>\n",
       "    <tr>\n",
       "      <th>10017</th>\n",
       "      <td>False</td>\n",
       "      <td>True</td>\n",
       "    </tr>\n",
       "    <tr>\n",
       "      <th>9691</th>\n",
       "      <td>True</td>\n",
       "      <td>False</td>\n",
       "    </tr>\n",
       "    <tr>\n",
       "      <th>7973</th>\n",
       "      <td>True</td>\n",
       "      <td>False</td>\n",
       "    </tr>\n",
       "  </tbody>\n",
       "</table>\n",
       "</div>"
      ],
      "text/plain": [
       "       predicted  actual\n",
       "10477       True    True\n",
       "7381       False   False\n",
       "15130       True   False\n",
       "18738      False   False\n",
       "12211       True    True\n",
       "9541       False   False\n",
       "1335       False   False\n",
       "10017      False    True\n",
       "9691        True   False\n",
       "7973        True   False"
      ]
     },
     "execution_count": 38,
     "metadata": {},
     "output_type": "execute_result"
    }
   ],
   "source": [
    "#make new dataframe between predicted and actual\n",
    "df_pred_actual = pd.DataFrame({'predicted': y_pred, 'actual': y_test})\n",
    "df_pred_actual.head(10) "
   ]
  },
  {
   "cell_type": "code",
   "execution_count": 40,
   "metadata": {},
   "outputs": [
    {
     "name": "stdout",
     "output_type": "stream",
     "text": [
      "Testing_score :  0.8267008985879333\n"
     ]
    }
   ],
   "source": [
    "#print test score (accuracy)\n",
    "from sklearn.metrics import accuracy_score\n",
    "\n",
    "print(\"Testing_score : \", accuracy_score(y_test,y_pred))"
   ]
  },
  {
   "cell_type": "code",
   "execution_count": null,
   "metadata": {},
   "outputs": [],
   "source": []
  }
 ],
 "metadata": {
  "kernelspec": {
   "display_name": "Python 3",
   "language": "python",
   "name": "python3"
  },
  "language_info": {
   "codemirror_mode": {
    "name": "ipython",
    "version": 3
   },
   "file_extension": ".py",
   "mimetype": "text/x-python",
   "name": "python",
   "nbconvert_exporter": "python",
   "pygments_lexer": "ipython3",
   "version": "3.7.6"
  }
 },
 "nbformat": 4,
 "nbformat_minor": 4
}
