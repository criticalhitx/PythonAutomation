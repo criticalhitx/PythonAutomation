{
 "cells": [
  {
   "cell_type": "code",
   "execution_count": 3,
   "metadata": {},
   "outputs": [],
   "source": [
    "import pandas as pd\n",
    "import numpy as np\n",
    "import matplotlib.pyplot as plt\n",
    "\n",
    "from sklearn.model_selection import train_test_split\n",
    "from sklearn.metrics import r2_score\n",
    "from sklearn.preprocessing import StandardScaler\n",
    "\n",
    "from sklearn.linear_model import Lasso\n",
    "from sklearn.neighbors import KNeighborsRegressor\n",
    "from sklearn.tree import DecisionTreeRegressor\n",
    "from sklearn.svm import SVR\n",
    "\n",
    "from sklearn.model_selection import GridSearchCV\n",
    "\n",
    "import warnings\n",
    "warnings.filterwarnings(\"ignore\")"
   ]
  },
  {
   "cell_type": "code",
   "execution_count": 4,
   "metadata": {},
   "outputs": [
    {
     "data": {
      "text/html": [
       "<div>\n",
       "<style scoped>\n",
       "    .dataframe tbody tr th:only-of-type {\n",
       "        vertical-align: middle;\n",
       "    }\n",
       "\n",
       "    .dataframe tbody tr th {\n",
       "        vertical-align: top;\n",
       "    }\n",
       "\n",
       "    .dataframe thead th {\n",
       "        text-align: right;\n",
       "    }\n",
       "</style>\n",
       "<table border=\"1\" class=\"dataframe\">\n",
       "  <thead>\n",
       "    <tr style=\"text-align: right;\">\n",
       "      <th></th>\n",
       "      <th>mpg</th>\n",
       "      <th>cylinders</th>\n",
       "      <th>displacement</th>\n",
       "      <th>horsepower</th>\n",
       "      <th>weight</th>\n",
       "      <th>acceleration</th>\n",
       "      <th>age</th>\n",
       "    </tr>\n",
       "  </thead>\n",
       "  <tbody>\n",
       "    <tr>\n",
       "      <th>0</th>\n",
       "      <td>20.0</td>\n",
       "      <td>4</td>\n",
       "      <td>130.0</td>\n",
       "      <td>102</td>\n",
       "      <td>3150</td>\n",
       "      <td>15.7</td>\n",
       "      <td>44</td>\n",
       "    </tr>\n",
       "    <tr>\n",
       "      <th>1</th>\n",
       "      <td>15.0</td>\n",
       "      <td>6</td>\n",
       "      <td>250.0</td>\n",
       "      <td>100</td>\n",
       "      <td>3336</td>\n",
       "      <td>17.0</td>\n",
       "      <td>46</td>\n",
       "    </tr>\n",
       "    <tr>\n",
       "      <th>2</th>\n",
       "      <td>14.0</td>\n",
       "      <td>8</td>\n",
       "      <td>440.0</td>\n",
       "      <td>215</td>\n",
       "      <td>4312</td>\n",
       "      <td>8.5</td>\n",
       "      <td>50</td>\n",
       "    </tr>\n",
       "    <tr>\n",
       "      <th>3</th>\n",
       "      <td>26.0</td>\n",
       "      <td>4</td>\n",
       "      <td>97.0</td>\n",
       "      <td>46</td>\n",
       "      <td>1950</td>\n",
       "      <td>21.0</td>\n",
       "      <td>47</td>\n",
       "    </tr>\n",
       "    <tr>\n",
       "      <th>4</th>\n",
       "      <td>26.4</td>\n",
       "      <td>4</td>\n",
       "      <td>140.0</td>\n",
       "      <td>88</td>\n",
       "      <td>2870</td>\n",
       "      <td>18.1</td>\n",
       "      <td>40</td>\n",
       "    </tr>\n",
       "  </tbody>\n",
       "</table>\n",
       "</div>"
      ],
      "text/plain": [
       "    mpg  cylinders  displacement  horsepower  weight  acceleration  age\n",
       "0  20.0          4         130.0         102    3150          15.7   44\n",
       "1  15.0          6         250.0         100    3336          17.0   46\n",
       "2  14.0          8         440.0         215    4312           8.5   50\n",
       "3  26.0          4          97.0          46    1950          21.0   47\n",
       "4  26.4          4         140.0          88    2870          18.1   40"
      ]
     },
     "execution_count": 4,
     "metadata": {},
     "output_type": "execute_result"
    }
   ],
   "source": [
    "automobile_df = pd.read_csv('datasets/auto-mpg-processed.csv')\n",
    "automobile_df.head()"
   ]
  },
  {
   "cell_type": "code",
   "execution_count": 5,
   "metadata": {},
   "outputs": [],
   "source": [
    "X = automobile_df.drop(['mpg', 'age'], axis = 1)\n",
    "Y = automobile_df['mpg']\n",
    "\n",
    "x_train, x_test, y_train, y_test = train_test_split(X, Y, test_size=0.2)"
   ]
  },
  {
   "cell_type": "code",
   "execution_count": 6,
   "metadata": {},
   "outputs": [
    {
     "data": {
      "text/plain": [
       "{'alpha': 1.0}"
      ]
     },
     "execution_count": 6,
     "metadata": {},
     "output_type": "execute_result"
    }
   ],
   "source": [
    "parameters = {'alpha': [0.2, 0.4, 0.6, 0.7, 0.8, 0.9, 1.0]}\n",
    "#3 fold cross validation. all dataset will be splited into 3. the third part will be used for testing\n",
    "grid_search = GridSearchCV(Lasso(), parameters, cv=3, return_train_score=True)\n",
    "grid_search.fit(x_train, y_train)\n",
    "\n",
    "grid_search.best_params_"
   ]
  },
  {
   "cell_type": "code",
   "execution_count": 7,
   "metadata": {},
   "outputs": [
    {
     "name": "stdout",
     "output_type": "stream",
     "text": [
      "Parameters:  {'alpha': 0.2}\n",
      "Mean Test Score:  0.6952620799947287\n",
      "Rank:  7\n",
      "Parameters:  {'alpha': 0.4}\n",
      "Mean Test Score:  0.696715723956034\n",
      "Rank:  6\n",
      "Parameters:  {'alpha': 0.6}\n",
      "Mean Test Score:  0.696960117146641\n",
      "Rank:  5\n",
      "Parameters:  {'alpha': 0.7}\n",
      "Mean Test Score:  0.6969669049738881\n",
      "Rank:  4\n",
      "Parameters:  {'alpha': 0.8}\n",
      "Mean Test Score:  0.6969727673608815\n",
      "Rank:  3\n",
      "Parameters:  {'alpha': 0.9}\n",
      "Mean Test Score:  0.6969778275178827\n",
      "Rank:  2\n",
      "Parameters:  {'alpha': 1.0}\n",
      "Mean Test Score:  0.6969817787637104\n",
      "Rank:  1\n"
     ]
    }
   ],
   "source": [
    "for i in range(len(parameters['alpha'])):\n",
    "    print('Parameters: ', grid_search.cv_results_['params'][i])\n",
    "    print('Mean Test Score: ', grid_search.cv_results_['mean_test_score'][i])\n",
    "    print('Rank: ', grid_search.cv_results_['rank_test_score'][i])"
   ]
  },
  {
   "cell_type": "code",
   "execution_count": 8,
   "metadata": {},
   "outputs": [],
   "source": [
    "lasso_model = Lasso(alpha=grid_search.best_params_['alpha']).fit(x_train, y_train)"
   ]
  },
  {
   "cell_type": "code",
   "execution_count": 9,
   "metadata": {},
   "outputs": [
    {
     "name": "stdout",
     "output_type": "stream",
     "text": [
      "Training score:  0.7002640174708283\n",
      "Test score:  0.7226381982464427\n"
     ]
    }
   ],
   "source": [
    "y_pred = lasso_model.predict(x_test)\n",
    "\n",
    "print('Training score: ', lasso_model.score(x_train, y_train))\n",
    "print('Test score: ', r2_score(y_test, y_pred))"
   ]
  },
  {
   "cell_type": "code",
   "execution_count": 11,
   "metadata": {},
   "outputs": [
    {
     "data": {
      "text/plain": [
       "{'n_neighbors': 30}"
      ]
     },
     "execution_count": 11,
     "metadata": {},
     "output_type": "execute_result"
    }
   ],
   "source": [
    "parameters = {'n_neighbors': [10, 12, 14, 18, 20, 25, 30, 35, 50]}\n",
    "\n",
    "grid_search = GridSearchCV(KNeighborsRegressor(), parameters, cv=3, return_train_score=True)\n",
    "grid_search.fit(x_train, y_train)\n",
    "\n",
    "grid_search.best_params_"
   ]
  },
  {
   "cell_type": "code",
   "execution_count": 12,
   "metadata": {},
   "outputs": [
    {
     "name": "stdout",
     "output_type": "stream",
     "text": [
      "Parameters:  {'n_neighbors': 10}\n",
      "Mean Test Score:  0.6636341308642912\n",
      "Rank:  9\n",
      "Parameters:  {'n_neighbors': 12}\n",
      "Mean Test Score:  0.6740369316859048\n",
      "Rank:  8\n",
      "Parameters:  {'n_neighbors': 14}\n",
      "Mean Test Score:  0.6812101660889937\n",
      "Rank:  7\n",
      "Parameters:  {'n_neighbors': 18}\n",
      "Mean Test Score:  0.687316956156609\n",
      "Rank:  6\n",
      "Parameters:  {'n_neighbors': 20}\n",
      "Mean Test Score:  0.6936379951139617\n",
      "Rank:  5\n",
      "Parameters:  {'n_neighbors': 25}\n",
      "Mean Test Score:  0.7001266377692298\n",
      "Rank:  4\n",
      "Parameters:  {'n_neighbors': 30}\n",
      "Mean Test Score:  0.7049922712055819\n",
      "Rank:  1\n",
      "Parameters:  {'n_neighbors': 35}\n",
      "Mean Test Score:  0.7040520307589496\n",
      "Rank:  2\n",
      "Parameters:  {'n_neighbors': 50}\n",
      "Mean Test Score:  0.7035109499460314\n",
      "Rank:  3\n"
     ]
    }
   ],
   "source": [
    "for i in range(len(parameters['n_neighbors'])):\n",
    "    print('Parameters: ', grid_search.cv_results_['params'][i])\n",
    "    print('Mean Test Score: ', grid_search.cv_results_['mean_test_score'][i])\n",
    "    print('Rank: ', grid_search.cv_results_['rank_test_score'][i])"
   ]
  },
  {
   "cell_type": "code",
   "execution_count": 13,
   "metadata": {},
   "outputs": [
    {
     "data": {
      "text/plain": [
       "{'mean_fit_time': array([0.00399772, 0.00399478, 0.0040137 , 0.00521429, 0.0052096 ,\n",
       "        0.00167632, 0.        , 0.        , 0.        ]),\n",
       " 'std_fit_time': array([1.05845200e-05, 3.48413948e-06, 2.08006452e-05, 7.37412501e-03,\n",
       "        7.36749390e-03, 2.37067594e-03, 0.00000000e+00, 0.00000000e+00,\n",
       "        0.00000000e+00]),\n",
       " 'mean_score_time': array([0.00400639, 0.00266592, 0.0013384 , 0.        , 0.0052077 ,\n",
       "        0.00521723, 0.        , 0.        , 0.00520221]),\n",
       " 'std_score_time': array([7.69123210e-06, 1.88508811e-03, 1.89278687e-03, 0.00000000e+00,\n",
       "        7.36479650e-03, 7.37828350e-03, 0.00000000e+00, 0.00000000e+00,\n",
       "        7.35704148e-03]),\n",
       " 'param_n_neighbors': masked_array(data=[10, 12, 14, 18, 20, 25, 30, 35, 50],\n",
       "              mask=[False, False, False, False, False, False, False, False,\n",
       "                    False],\n",
       "        fill_value='?',\n",
       "             dtype=object),\n",
       " 'params': [{'n_neighbors': 10},\n",
       "  {'n_neighbors': 12},\n",
       "  {'n_neighbors': 14},\n",
       "  {'n_neighbors': 18},\n",
       "  {'n_neighbors': 20},\n",
       "  {'n_neighbors': 25},\n",
       "  {'n_neighbors': 30},\n",
       "  {'n_neighbors': 35},\n",
       "  {'n_neighbors': 50}],\n",
       " 'split0_test_score': array([0.65622154, 0.66206062, 0.6672901 , 0.66276087, 0.66850155,\n",
       "        0.67624603, 0.67734759, 0.6759835 , 0.67232537]),\n",
       " 'split1_test_score': array([0.61243709, 0.63570619, 0.6564986 , 0.67578993, 0.68455276,\n",
       "        0.68634892, 0.69360118, 0.68962978, 0.69000452]),\n",
       " 'split2_test_score': array([0.72224377, 0.72434398, 0.7198418 , 0.72340007, 0.72785967,\n",
       "        0.73778496, 0.74402804, 0.74654281, 0.74820295]),\n",
       " 'mean_test_score': array([0.66363413, 0.67403693, 0.68121017, 0.68731696, 0.693638  ,\n",
       "        0.70012664, 0.70499227, 0.70405203, 0.70351095]),\n",
       " 'std_test_score': array([0.04513377, 0.03716395, 0.02766968, 0.02606316, 0.02506994,\n",
       "        0.02694599, 0.02838883, 0.03055765, 0.03241573]),\n",
       " 'rank_test_score': array([9, 8, 7, 6, 5, 4, 1, 2, 3]),\n",
       " 'split0_train_score': array([0.74048129, 0.73436044, 0.73736218, 0.7350274 , 0.73171121,\n",
       "        0.73407031, 0.72944494, 0.72549897, 0.71737917]),\n",
       " 'split1_train_score': array([0.76934487, 0.76626163, 0.7530915 , 0.73630069, 0.72698172,\n",
       "        0.7324893 , 0.73092066, 0.72459042, 0.70691924]),\n",
       " 'split2_train_score': array([0.72054363, 0.72034819, 0.71042201, 0.70937768, 0.71130679,\n",
       "        0.70419752, 0.70203467, 0.70059429, 0.68662467]),\n",
       " 'mean_train_score': array([0.7434566 , 0.74032342, 0.73362523, 0.72690193, 0.72333324,\n",
       "        0.72358571, 0.72080009, 0.71689456, 0.70364103]),\n",
       " 'std_train_score': array([0.0200338 , 0.01921248, 0.01761902, 0.01240241, 0.00872043,\n",
       "        0.01372471, 0.01328283, 0.011532  , 0.01276766])}"
      ]
     },
     "execution_count": 13,
     "metadata": {},
     "output_type": "execute_result"
    }
   ],
   "source": [
    "grid_search.cv_results_"
   ]
  },
  {
   "cell_type": "code",
   "execution_count": 14,
   "metadata": {},
   "outputs": [],
   "source": [
    "kneighbors_model = KNeighborsRegressor(n_neighbors=grid_search.best_params_['n_neighbors']).fit(x_train, y_train)"
   ]
  },
  {
   "cell_type": "code",
   "execution_count": 16,
   "metadata": {},
   "outputs": [
    {
     "name": "stdout",
     "output_type": "stream",
     "text": [
      "Training score:  0.7177282385169992\n",
      "Test score:  0.7396024824879233\n"
     ]
    }
   ],
   "source": [
    "y_pred = kneighbors_model.predict(x_test)\n",
    "\n",
    "print('Training score: ', kneighbors_model.score(x_train, y_train))\n",
    "print('Test score: ', r2_score(y_test, y_pred))"
   ]
  },
  {
   "cell_type": "code",
   "execution_count": 18,
   "metadata": {},
   "outputs": [
    {
     "data": {
      "text/plain": [
       "{'max_depth': 3}"
      ]
     },
     "execution_count": 18,
     "metadata": {},
     "output_type": "execute_result"
    }
   ],
   "source": [
    "#Now decision Tree\n",
    "parameters = {'max_depth':[1,2,3,4,5,6,7,8]}\n",
    "\n",
    "grid_search = GridSearchCV(DecisionTreeRegressor(), parameters, cv=3, return_train_score=True)\n",
    "grid_search.fit(x_train, y_train)\n",
    "\n",
    "grid_search.best_params_"
   ]
  },
  {
   "cell_type": "code",
   "execution_count": 19,
   "metadata": {},
   "outputs": [
    {
     "name": "stdout",
     "output_type": "stream",
     "text": [
      "Parameters:  {'max_depth': 1}\n",
      "Mean Test Score:  0.538095683335316\n",
      "Rank:  8\n",
      "Parameters:  {'max_depth': 2}\n",
      "Mean Test Score:  0.6625724470741386\n",
      "Rank:  3\n",
      "Parameters:  {'max_depth': 3}\n",
      "Mean Test Score:  0.694867580940357\n",
      "Rank:  1\n",
      "Parameters:  {'max_depth': 4}\n",
      "Mean Test Score:  0.6860194502729998\n",
      "Rank:  2\n",
      "Parameters:  {'max_depth': 5}\n",
      "Mean Test Score:  0.6186832439626622\n",
      "Rank:  4\n",
      "Parameters:  {'max_depth': 6}\n",
      "Mean Test Score:  0.6118268299577987\n",
      "Rank:  5\n",
      "Parameters:  {'max_depth': 7}\n",
      "Mean Test Score:  0.5872380224564758\n",
      "Rank:  6\n",
      "Parameters:  {'max_depth': 8}\n",
      "Mean Test Score:  0.5647264359278423\n",
      "Rank:  7\n"
     ]
    }
   ],
   "source": [
    "for i in range(len(parameters['max_depth'])):\n",
    "    print('Parameters: ', grid_search.cv_results_['params'][i])\n",
    "    print('Mean Test Score: ', grid_search.cv_results_['mean_test_score'][i])\n",
    "    print('Rank: ', grid_search.cv_results_['rank_test_score'][i])"
   ]
  },
  {
   "cell_type": "code",
   "execution_count": 21,
   "metadata": {},
   "outputs": [],
   "source": [
    "decision_tree_model = DecisionTreeRegressor(max_depth=grid_search.best_params_['max_depth']).fit(x_train, y_train)"
   ]
  },
  {
   "cell_type": "code",
   "execution_count": 22,
   "metadata": {},
   "outputs": [
    {
     "name": "stdout",
     "output_type": "stream",
     "text": [
      "Training score:  0.7666580458529545\n",
      "Test score:  0.7468411722508991\n"
     ]
    }
   ],
   "source": [
    "y_pred = decision_tree_model.predict(x_test)\n",
    "\n",
    "print('Training score: ', decision_tree_model.score(x_train, y_train))\n",
    "print('Test score: ', r2_score(y_test, y_pred))"
   ]
  },
  {
   "cell_type": "code",
   "execution_count": 24,
   "metadata": {},
   "outputs": [
    {
     "data": {
      "text/plain": [
       "{'C': 0.3, 'epsilon': 0.05}"
      ]
     },
     "execution_count": 24,
     "metadata": {},
     "output_type": "execute_result"
    }
   ],
   "source": [
    "#Support Vector Regression\n",
    "parameters = {'epsilon': [0.05, 0.1, 0.2,  0.3],\n",
    "              'C':[0.2,0.3]}\n",
    "\n",
    "grid_search = GridSearchCV(SVR(kernel='linear'), parameters, cv=3, return_train_score=True)\n",
    "grid_search.fit(x_train, y_train)\n",
    "\n",
    "grid_search.best_params_"
   ]
  },
  {
   "cell_type": "code",
   "execution_count": 25,
   "metadata": {},
   "outputs": [],
   "source": [
    "svr_model = SVR(kernel='linear',\n",
    "                epsilon=grid_search.best_params_['epsilon'],\n",
    "                C = grid_search.best_params_['C']).fit(x_train, y_train)"
   ]
  },
  {
   "cell_type": "code",
   "execution_count": 26,
   "metadata": {},
   "outputs": [
    {
     "name": "stdout",
     "output_type": "stream",
     "text": [
      "Training score:  0.6874549492376445\n",
      "Test score:  0.7151106967299472\n"
     ]
    }
   ],
   "source": [
    "y_pred = svr_model.predict(x_test)\n",
    "\n",
    "print('Training score: ', svr_model.score(x_train, y_train))\n",
    "print('Test score: ', r2_score(y_test, y_pred))"
   ]
  },
  {
   "cell_type": "code",
   "execution_count": null,
   "metadata": {},
   "outputs": [],
   "source": []
  }
 ],
 "metadata": {
  "kernelspec": {
   "display_name": "Python 3",
   "language": "python",
   "name": "python3"
  },
  "language_info": {
   "codemirror_mode": {
    "name": "ipython",
    "version": 3
   },
   "file_extension": ".py",
   "mimetype": "text/x-python",
   "name": "python",
   "nbconvert_exporter": "python",
   "pygments_lexer": "ipython3",
   "version": "3.7.6"
  }
 },
 "nbformat": 4,
 "nbformat_minor": 4
}
